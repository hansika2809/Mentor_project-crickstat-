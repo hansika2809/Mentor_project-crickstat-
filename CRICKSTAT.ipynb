{
  "cells": [
    {
      "cell_type": "markdown",
      "metadata": {
        "id": "Ix2Nrafc-N5w"
      },
      "source": [
        "### Loading the Libraries"
      ]
    },
    {
      "cell_type": "code",
      "execution_count": null,
      "metadata": {
        "id": "_N-RUe2L57zF"
      },
      "outputs": [],
      "source": [
        "import numpy as np\n",
        "import plotly as py\n",
        "import plotly.graph_objs as go\n",
        "import plotly.express as px\n",
        "import pandas as pd\n",
        "import matplotlib.pyplot as plt\n",
        "import seaborn as sns"
      ]
    },
    {
      "cell_type": "code",
      "execution_count": null,
      "metadata": {
        "id": "ba66uvly3Ri3"
      },
      "outputs": [],
      "source": [
        "import warnings\n",
        "warnings.filterwarnings('ignore')"
      ]
    },
    {
      "cell_type": "markdown",
      "metadata": {
        "id": "8egi5TSc-rPJ"
      },
      "source": [
        "### Loading the Datasets"
      ]
    },
    {
      "cell_type": "code",
      "execution_count": null,
      "metadata": {
        "id": "rW6ZzciZjNoJ"
      },
      "outputs": [],
      "source": [
        "df_train = pd.read_csv('/content/663e2b6d54457_train_data_with_samplefeatures.csv')"
      ]
    },
    {
      "cell_type": "code",
      "execution_count": null,
      "metadata": {
        "id": "Nq7O96YltoYu"
      },
      "outputs": [],
      "source": [
        "df_train_copy = df_train.copy()"
      ]
    },
    {
      "cell_type": "code",
      "execution_count": null,
      "metadata": {
        "id": "ZNyaB1yHjX0n"
      },
      "outputs": [],
      "source": [
        "df_test = pd.read_csv('/content/6644a1e287df6_test_data_with_samplefeatures.csv')"
      ]
    },
    {
      "cell_type": "code",
      "execution_count": null,
      "metadata": {
        "id": "XvYk7DkgxHAN"
      },
      "outputs": [],
      "source": [
        "df_test_copy = df_test.copy()"
      ]
    },
    {
      "cell_type": "code",
      "execution_count": null,
      "metadata": {
        "id": "s38hwv0cjca-"
      },
      "outputs": [],
      "source": [
        "bowler_lvl_data = pd.read_csv('/content/663e2b2c60743_bowler_level_scorecard.csv')"
      ]
    },
    {
      "cell_type": "code",
      "execution_count": null,
      "metadata": {
        "id": "eLrzPJP1jgLU"
      },
      "outputs": [],
      "source": [
        "batsman_lvl_data = pd.read_csv('/content/663e2b548c98c_batsman_level_scorecard.csv')"
      ]
    },
    {
      "cell_type": "code",
      "execution_count": null,
      "metadata": {
        "id": "wAbe14DNjjhk"
      },
      "outputs": [],
      "source": [
        "df_match_score = pd.read_csv('/content/664389efa0868_match_level_scorecard.csv')"
      ]
    },
    {
      "cell_type": "code",
      "execution_count": null,
      "metadata": {
        "id": "FYIarTnntsGb"
      },
      "outputs": [],
      "source": [
        "df_match_score_copy = df_match_score.copy()"
      ]
    },
    {
      "cell_type": "markdown",
      "metadata": {
        "id": "Bo8HONZH_SFY"
      },
      "source": [
        "### Veiwing the Datasets"
      ]
    },
    {
      "cell_type": "code",
      "execution_count": null,
      "metadata": {
        "id": "m0tmB5XnRnIO"
      },
      "outputs": [],
      "source": [
        "df_train"
      ]
    },
    {
      "cell_type": "code",
      "execution_count": null,
      "metadata": {
        "id": "J-a7PBD3-xY5"
      },
      "outputs": [],
      "source": [
        "df_test"
      ]
    },
    {
      "cell_type": "code",
      "execution_count": null,
      "metadata": {
        "id": "wyJ5VEwKouZT"
      },
      "outputs": [],
      "source": [
        "bowler_lvl_data"
      ]
    },
    {
      "cell_type": "code",
      "execution_count": null,
      "metadata": {
        "id": "EiJaTgWk_P-z"
      },
      "outputs": [],
      "source": [
        "batsman_lvl_data"
      ]
    },
    {
      "cell_type": "code",
      "execution_count": null,
      "metadata": {
        "id": "jqa26BoRQxmS"
      },
      "outputs": [],
      "source": [
        "df_match_score.columns"
      ]
    },
    {
      "cell_type": "markdown",
      "metadata": {
        "id": "0kyFzRr_5DSv"
      },
      "source": [
        "### Useful Function\n",
        "\n",
        "Creating features by merging the information present in different files."
      ]
    },
    {
      "cell_type": "code",
      "execution_count": null,
      "metadata": {
        "id": "Qf6ZZb1n5TbE"
      },
      "outputs": [],
      "source": [
        "from tqdm import tqdm\n",
        "tqdm.pandas()"
      ]
    },
    {
      "cell_type": "code",
      "execution_count": null,
      "metadata": {
        "id": "gEvcJwo05Tg7"
      },
      "outputs": [],
      "source": [
        "from matplotlib import pyplot as plt\n",
        "plt.style.use('seaborn-v0_8')  # safer and avoids warning"
      ]
    },
    {
      "cell_type": "code",
      "execution_count": null,
      "metadata": {
        "id": "kpx9z7QxgvWJ"
      },
      "outputs": [],
      "source": [
        "df_train['target']=(df_train[\"winner_id\"]==df_train[\"team1_id\"])*1 # assign 1 if team 1 wins and 0 otherwise"
      ]
    },
    {
      "cell_type": "code",
      "execution_count": null,
      "metadata": {
        "id": "8k6sskar5GRA"
      },
      "outputs": [],
      "source": [
        "import re\n",
        "def createRnP(X_12, feature, N=5, ylim_lb=0.1, ylim_ub=0.9):\n",
        "    '''\n",
        "    Rank and Plot of input feature on the input data. The y-axis shows %team1 wins in each bucket.\n",
        "\n",
        "    Parameters-\n",
        "    1. X_12: dataset to build the RnP on.\n",
        "    2. feature: Feature to build RnP of.\n",
        "    3. N: number of bins on x-axis. Default 5.\n",
        "    4. ylim_lb: lower bound of y axis on plot.\n",
        "    5. ylim_ub: upper bound of y axis on plot.\n",
        "\n",
        "    Output-\n",
        "    1. Rank and Plot\n",
        "\n",
        "    Returns- None\n",
        "    '''\n",
        "    df = X_12.copy()\n",
        "    df[f'{feature}_bin'] = df[feature].rank(pct=True)//(1/N) # divide feature values for all games in 5 equi-volume buckets.\n",
        "    df['count'] = 1\n",
        "    df['team1_win%'] = df['target'].apply(lambda x: x) # invert winner_01 to get team1 winner indicator\n",
        "    df['team2_win%'] = df['target'].copy()\n",
        "    df[f'{feature}_min'] = df[feature].copy()\n",
        "    df[f'{feature}_max'] = df[feature].copy()\n",
        "    df_g = df.groupby(f'{feature}_bin').agg({'team1_win%':'mean', 'team2_win%':'mean', 'count':'sum', f'{feature}_min':'min',\\\n",
        "                                            f'{feature}_max':'max'}).reset_index()\n",
        "    N = min(N,df_g.shape[0])\n",
        "    blue_bar = df_g['team1_win%'].values.tolist()\n",
        "    ind = np.arange(N)\n",
        "    # plotting starts\n",
        "    plt.figure(figsize=(10,5));\n",
        "    plt.bar(ind, blue_bar, label='Team 1 win%');\n",
        "    plt.axhline(y=0.5, linewidth=0.5, color='k', linestyle = '--')\n",
        "    xlabel = re.sub('team_','ratio_',feature)\n",
        "    plt.xlabel(f'{xlabel} (team1 / team2) bins');\n",
        "    plt.ylabel('Win %');\n",
        "    plt.title(f'RnP - {feature} vs win');\n",
        "    df_g['xticks'] = df_g.apply(lambda x: str(round(x[f'{feature}_min'],2)) + ' - ' + str(round(x[f'{feature}_max'],2)), axis=1)\n",
        "    plt.xticks(ind, df_g['xticks']);\n",
        "    plt.ylim([ylim_lb,ylim_ub]);\n",
        "    plt.legend(loc='best');\n",
        "    x2,x1 = blue_bar[-1],blue_bar[0]\n",
        "    slope = x2/x1\n",
        "    if slope < 1:\n",
        "        slope = 1/slope\n",
        "        x1,x2 = x2,x1\n",
        "    print('slope:', round(x2,2),'/',round(x1,2), '= ',round(slope,2))\n",
        "    plt.show();"
      ]
    },
    {
      "cell_type": "code",
      "execution_count": null,
      "metadata": {
        "id": "W-_pv2yu5GT-"
      },
      "outputs": [],
      "source": [
        "def giveLastNgamesPlayer(player_id, date, n, bat_or_bowl):\n",
        "    '''\n",
        "    Function to get last n games stats of a player before an input date.\n",
        "\n",
        "    Input-\n",
        "    1. player_id: id of the player to get historical data.\n",
        "    2. date: date to look-back and get n games. Stats returned are before this input date.\n",
        "    3. n: Number of historical games stats to return.\n",
        "    4. bat_or_bowl: Kind of stats to return. {'bat': batting stats to return, 'bowl': bowling stats to return}\n",
        "\n",
        "    Output-None\n",
        "\n",
        "    Returns- dataframe having bowling/batting stats from last n games of a player before an input date.\n",
        "    The results are sorted by date.\n",
        "    '''\n",
        "    if bat_or_bowl == 'bat':\n",
        "        df_topick = batsman_lvl_data\n",
        "        id_col = 'batsman_id'\n",
        "    else:\n",
        "        df_topick = bowler_lvl_data\n",
        "        id_col = 'bowler_id'\n",
        "\n",
        "    return df_topick[(df_topick['match_dt']<date)&(df_topick[id_col]==float(player_id))]\\\n",
        "                .sort_values(by='match_dt', ascending=False).head(n)"
      ]
    },
    {
      "cell_type": "code",
      "execution_count": null,
      "metadata": {
        "id": "Awe8md54SeFZ"
      },
      "outputs": [],
      "source": [
        "def no50sLastn(player_list, date, n):\n",
        "    '''\n",
        "    Function to get total number of 50s scored by players in the roster of a team in last n games.\n",
        "\n",
        "    Input-\n",
        "    1. player_list: ':' separated list of player ids in the roster of a team.\n",
        "    2. date: match date of the game to calculate this feature.\n",
        "    3. n: Number of games to look-back and create this feature.\n",
        "\n",
        "    Output-None\n",
        "\n",
        "    Returns- int value denoting sum of 50s scored by all players in the roster.\n",
        "    '''\n",
        "\n",
        "    player_list = str(player_list).split(':') # split string of ':' separated ids into a list of ids\n",
        "    res_list = []\n",
        "    for player in player_list: # loop over each player_id in roster\n",
        "        df_rel = giveLastNgamesPlayer(player_id=player, date=date, n=n, bat_or_bowl='bat') # getting batting stats from last n games for each player.\n",
        "        df_rel['gte_50runs'] = np.where(df_rel['runs']>=50, 1, 0) # binary indicator to denote whether the player scored a 50 in the game (runs>=50).\n",
        "        res_list.append(np.nansum(df_rel['gte_50runs']))# Sum up number of 50s for the player and append to a list. We will do this for all players.\n",
        "    return np.nansum(res_list)# Sum up values of the list which is sum of 50s by all players in the roster."
      ]
    },
    {
      "cell_type": "code",
      "execution_count": null,
      "metadata": {
        "id": "56EHJkiIWK6Y"
      },
      "outputs": [],
      "source": [
        "def topThreeBatsmenRuns(player_list, date, n):\n",
        "    '''\n",
        "    Function to get the total runs of the top 3 batsmen in the last n games before a specified date.\n",
        "\n",
        "    Input-\n",
        "    1. player_list: ':' separated list of player ids.\n",
        "    2. date: date to look-back and get n games. Stats returned are before this input date.\n",
        "    3. n: Number of games to look-back and create this feature.\n",
        "\n",
        "    Output-None\n",
        "\n",
        "    Returns- The total number of runs scored by the top 3 batsmen in the last n games.\n",
        "    '''\n",
        "\n",
        "    player_list = str(player_list).split(':')  # Split string of ':' separated ids into a list of ids\n",
        "    batsman_runs = []\n",
        "\n",
        "    for player in player_list:  # Loop over each player_id in the roster\n",
        "        df_rel = giveLastNgamesPlayer(player_id=player, date=date, n=n, bat_or_bowl='bat')  # Get batting stats from last n games for each player\n",
        "        total_runs = np.nansum(df_rel['runs'])  # Sum up the runs scored in these games\n",
        "        batsman_runs.append((player, total_runs))  # Append a tuple of (player_id, total_runs)\n",
        "\n",
        "    # Sort the list of tuples by total_runs in descending order and get the top 3\n",
        "    batsman_runs.sort(key=lambda x: x[1], reverse=True)\n",
        "    top_3_batsmen = batsman_runs[:3]\n",
        "\n",
        "    # Calculate the total runs scored by the top 3 batsmen\n",
        "    total_runs_top_3 = sum([runs for _, runs in top_3_batsmen])\n",
        "\n",
        "    return total_runs_top_3\n",
        "\n",
        "\n",
        "    return total_runs_top_3\n",
        "def topThreeBowlersWickets(player_list, date, n):\n",
        "    '''\n",
        "    Function to get the total wickets of the top 3 bowlers in the last n games before a specified date.\n",
        "\n",
        "    Input-\n",
        "    1. player_list: ':' separated list of player ids.\n",
        "    2. date: date to look-back and get n games. Stats returned are before this input date.\n",
        "    3. n: Number of games to look-back and create this feature.\n",
        "\n",
        "    Output-None\n",
        "\n",
        "    Returns- The total number of wickets taken by the top 3 bowlers in the last n games.\n",
        "    '''\n",
        "\n",
        "    player_list = str(player_list).split(':')  # Split string of ':' separated ids into a list of ids\n",
        "    bowler_wickets = []\n",
        "\n",
        "    for player in player_list:  # Loop over each player_id in the roster\n",
        "        df_rel = giveLastNgamesPlayer(player_id=player, date=date, n=n, bat_or_bowl='bowl')  # Get bowling stats from last n games for each player\n",
        "        total_wickets = np.nansum(df_rel['wicket_count'])  # Sum up the wickets taken in these games\n",
        "        bowler_wickets.append((player, total_wickets))  # Append a tuple of (player_id, total_wickets)\n",
        "\n",
        "    # Sort the list of tuples by total_wickets in descending order and get the top 3\n",
        "    bowler_wickets.sort(key=lambda x: x[1], reverse=True)\n",
        "    top_3_bowlers = bowler_wickets[:3]\n",
        "\n",
        "    # Calculate the total wickets taken by the top 3 bowlers\n",
        "    total_wickets_top_3 = sum([wickets for _, wickets in top_3_bowlers])\n",
        "\n",
        "    return total_wickets_top_3\n"
      ]
    },
    {
      "cell_type": "code",
      "execution_count": null,
      "metadata": {
        "id": "OR996v1PrRc5"
      },
      "outputs": [],
      "source": [
        "def topThreeBatsmenStrikeRates(player_list, date, n=15):\n",
        "    '''\n",
        "    Function to get the average strike rates of the top 3 batsmen in the last 15 games before a specified date,\n",
        "    provided they have an average of more than 20 runs.\n",
        "\n",
        "    Input-\n",
        "    1. player_list: ':' separated list of player ids.\n",
        "    2. date: date to look-back and get n games. Stats returned are before this input date.\n",
        "    3. n: Number of games to look-back and create this feature.\n",
        "\n",
        "    Output-None\n",
        "\n",
        "    Returns- The average strike rate of the top 3 batsmen who have an average of more than 20 runs in the last n games.\n",
        "    '''\n",
        "\n",
        "    player_list = str(player_list).split(':')  # Split string of ':' separated ids into a list of ids\n",
        "    batsman_strike_rates = []\n",
        "\n",
        "    for player in player_list:  # Loop over each player_id in the roster\n",
        "        df_rel = giveLastNgamesPlayer(player_id=player, date=date, n=n, bat_or_bowl='bat')  # Get batting stats from last n games for each player\n",
        "\n",
        "        # Calculate total runs and total balls faced\n",
        "        total_runs = np.nansum(df_rel['runs'])\n",
        "        total_balls = np.nansum(df_rel['balls_faced'])\n",
        "\n",
        "        # Calculate average runs\n",
        "        num_games = len(df_rel)\n",
        "        average_runs = total_runs / num_games if num_games > 0 else 0\n",
        "\n",
        "        # Calculate strike rate\n",
        "        strike_rate = (total_runs / total_balls) * 100 if total_balls > 0 else 0\n",
        "\n",
        "        # Only consider batsmen with an average of more than 20 runs\n",
        "        if average_runs > 20:\n",
        "            batsman_strike_rates.append((player, strike_rate))\n",
        "\n",
        "    # Sort the list of tuples by strike rate in descending order and get the top 3\n",
        "    batsman_strike_rates.sort(key=lambda x: x[1], reverse=True)\n",
        "    top_3_batsmen = batsman_strike_rates[:3]\n",
        "\n",
        "    # Calculate the average strike rate of the top 3 batsmen\n",
        "    total_strike_rate_top_3 = sum([strike_rate for _, strike_rate in top_3_batsmen])\n",
        "    average_strike_rate_top_3 = total_strike_rate_top_3 / 3 if len(top_3_batsmen) == 3 else 0\n",
        "\n",
        "    return average_strike_rate_top_3\n"
      ]
    },
    {
      "cell_type": "code",
      "execution_count": null,
      "metadata": {
        "id": "NgTpjKpkrqvr"
      },
      "outputs": [],
      "source": [
        "def topThreeBowlersEconomy(player_list, date, n=15):\n",
        "    '''\n",
        "    Function to get the average economy of the top 3 bowlers in the last 15 games before a specified date,\n",
        "    provided they have bowled more than 2 overs on average.\n",
        "\n",
        "    Input-\n",
        "    1. player_list: ':' separated list of player ids.\n",
        "    2. date: date to look-back and get n games. Stats returned are before this input date.\n",
        "    3. n: Number of games to look-back and create this feature.\n",
        "\n",
        "    Output-None\n",
        "\n",
        "    Returns- The average economy rate of the top 3 bowlers who have bowled more than 2 overs on average in the last n games.\n",
        "    '''\n",
        "\n",
        "    player_list = str(player_list).split(':')  # Split string of ':' separated ids into a list of ids\n",
        "    bowler_economy_rates = []\n",
        "\n",
        "    for player in player_list:  # Loop over each player_id in the roster\n",
        "        df_rel = giveLastNgamesPlayer(player_id=player, date=date, n=n, bat_or_bowl='bowl')  # Get bowling stats from last n games for each player\n",
        "\n",
        "        # Calculate total runs conceded and total overs bowled\n",
        "        total_runs_conceded = np.nansum(df_rel['runs'])\n",
        "        total_balls_bowled = np.nansum(df_rel['balls_bowled'])\n",
        "\n",
        "        # Calculate total overs bowled\n",
        "        total_overs_bowled = total_balls_bowled / 6\n",
        "\n",
        "        # Calculate average overs bowled\n",
        "        num_games = len(df_rel)\n",
        "        average_overs_bowled = total_overs_bowled / num_games if num_games > 0 else 0\n",
        "\n",
        "        # Calculate economy rate\n",
        "        economy_rate = (total_runs_conceded / total_overs_bowled) if total_overs_bowled > 0 else 0\n",
        "\n",
        "        # Only consider bowlers who have bowled more than 2 overs on average\n",
        "        if average_overs_bowled > 2:\n",
        "            bowler_economy_rates.append((player, economy_rate))\n",
        "\n",
        "    # Sort the list of tuples by economy rate in ascending order and get the top 3 (lower economy rate is better)\n",
        "    bowler_economy_rates.sort(key=lambda x: x[1])\n",
        "    top_3_bowlers = bowler_economy_rates[:3]\n",
        "\n",
        "    # Calculate the average economy rate of the top 3 bowlers\n",
        "    total_economy_rate_top_3 = sum([economy_rate for _, economy_rate in top_3_bowlers])\n",
        "    average_economy_rate_top_3 = total_economy_rate_top_3 / 3 if len(top_3_bowlers) == 3 else 0\n",
        "\n",
        "    return average_economy_rate_top_3\n"
      ]
    },
    {
      "cell_type": "code",
      "execution_count": null,
      "metadata": {
        "id": "7dZ-Z9F5a2_s"
      },
      "outputs": [],
      "source": [
        "def no30sLastn(player_list, date, n):\n",
        "    '''\n",
        "    Function to get total number of 30s scored by players in the roster of a team in last n games.\n",
        "\n",
        "    Input-\n",
        "    1. player_list: ':' separated list of player ids in the roster of a team.\n",
        "    2. date: match date of the game to calculate this feature.\n",
        "    3. n: Number of games to look-back and create this feature.\n",
        "\n",
        "    Output-None\n",
        "\n",
        "    Returns- int value denoting sum of 30s scored by all players in the roster.\n",
        "    '''\n",
        "\n",
        "    player_list = str(player_list).split(':') # split string of ':' separated ids into a list of ids\n",
        "    res_list = []\n",
        "    for player in player_list: # loop over each player_id in roster\n",
        "        df_rel = giveLastNgamesPlayer(player_id=player, date=date, n=n, bat_or_bowl='bat') # getting batting stats from last n games for each player.\n",
        "        df_rel['gte_30runs'] = np.where(df_rel['runs']>=30, 1, 0) # binary indicator to denote whether the player scored a 50 in the game (runs>=50).\n",
        "        res_list.append(np.nansum(df_rel['gte_30runs']))# Sum up number of 50s for the player and append to a list. We will do this for all players.\n",
        "    return np.nansum(res_list)# Sum up values of the list which is sum of 50s by all players in the roster."
      ]
    },
    {
      "cell_type": "code",
      "execution_count": null,
      "metadata": {
        "id": "1sBazIHwUXse"
      },
      "outputs": [],
      "source": [
        "df_match_score['team1_bat_inning'] = np.where( ((df_match_score['team1']==df_match_score['toss winner'])&(df_match_score['toss decision']=='bat'))|\\\n",
        "\n",
        "                                               ((df_match_score['team2']==df_match_score['toss winner'])&(df_match_score['toss decision']=='field')) , 1, 2)\n",
        "\n",
        "\n",
        "def teamAvgRunsLastn(team_id, date, n):\n",
        "    '''\n",
        "    Function to calculate a team's average runs in their last n games.\n",
        "\n",
        "    Input-\n",
        "    1. team_id: ID of the team to calculate average runs.\n",
        "    2. date: match date of the current game for which the feature is calculated.\n",
        "    3. n: look-back window of games for the team.\n",
        "\n",
        "    Output- None\n",
        "\n",
        "    Return- Float value denoting average of runs scored by team1 in their last n games.\n",
        "    '''\n",
        "    # filter out games with either team1/2_id as input team_id, match date less than current game's input date, sort desc by date, and top n rows (games) returned\n",
        "    df_rel = df_match_score[(df_match_score['match_dt']<date)&\\\n",
        "                      ((df_match_score['team1_id']==team_id)|(df_match_score['team2_id']==team_id))]\\\n",
        "                        .sort_values(by='match_dt', ascending=False).head(n)\n",
        "    # combine two dataframes - one where input team is batting first, and another one where input team is batting second.\n",
        "    df_rel = pd.concat([ df_rel[df_rel['team1_bat_inning']==1][['inning1_runs']].rename(columns={'inning1_runs':'runs'}), \\\n",
        "                         df_rel[df_rel['team1_bat_inning']==2][['inning2_runs']].rename(columns={'inning2_runs':'runs'}) ] )\n",
        "    return df_rel['runs'].mean() # return mean of the combined dataframe.\n",
        "\n",
        "\n",
        "def teamAvgStrikeRateLastn(team_id, date, n):\n",
        "    '''\n",
        "    Function to calculate a team's average runs in their last n games.\n",
        "\n",
        "    Input-\n",
        "    1. team_id: ID of the team to calculate average strike rate.\n",
        "    2. date: match date of the current game for which the feature is calculated.\n",
        "    3. n: look-back window of games for the team.\n",
        "\n",
        "    Output- None\n",
        "\n",
        "    Return- Float value denoting average of strike rate scored by team1 in their last n games.\n",
        "    '''\n",
        "    # filter out games with either team1/2_id as input team_id, match date less than current game's input date, sort desc by date, and top n rows (games) returned\n",
        "    df_rel = df_match_score[(df_match_score['match_dt']<date)&\\\n",
        "                      ((df_match_score['team1_id']==team_id)|(df_match_score['team2_id']==team_id))]\\\n",
        "                        .sort_values(by='match_dt', ascending=False).head(n)\n",
        "    # combine two dataframes - one where input team is batting first, and another one where input team is batting second.\n",
        "    df_rel = pd.concat([ df_rel[df_rel['team1_bat_inning']==1][['inning1_runs']].rename(columns={'inning1_runs':'strike_rate'}), \\\n",
        "                         df_rel[df_rel['team1_bat_inning']==2][['inning2_runs']].rename(columns={'inning2_runs':'strike_rate'}) ] )\n",
        "    return df_rel['strike_rate'].mean() # return mean of the combined dataframe."
      ]
    },
    {
      "cell_type": "code",
      "execution_count": null,
      "metadata": {
        "id": "d6qZvrsjXG7a"
      },
      "outputs": [],
      "source": [
        "df_train"
      ]
    },
    {
      "cell_type": "code",
      "execution_count": null,
      "metadata": {
        "id": "NId7eFK7WkqY"
      },
      "outputs": [],
      "source": [
        "df_train['best_batsman1']=df_train.progress_apply(lambda x: topThreeBatsmenRuns(x['team1_roster_ids'], x['match_dt'], 15), axis=1)\n",
        "df_train['best_batsman2']=df_train.progress_apply(lambda x: topThreeBatsmenRuns(x['team2_roster_ids'], x['match_dt'], 15), axis=1)\n",
        "df_train['best_bowler1']=df_train.progress_apply(lambda x: topThreeBowlersWickets(x['team1_roster_ids'], x['match_dt'], 15), axis=1)\n",
        "df_train['best_bowler2']=df_train.progress_apply(lambda x: topThreeBowlersWickets(x['team2_roster_ids'], x['match_dt'], 15), axis=1)\n",
        "df_train['runsratio']=(df_train['best_batsman1']+1)/(df_train['best_batsman2']+1)\n",
        "df_train['wicketsratio']=(df_train['best_bowler1']+1)/(df_train['best_bowler2']+1)\n",
        "df_train['best_strikerate1']=df_train.progress_apply(lambda x: topThreeBatsmenStrikeRates(x['team1_roster_ids'], x['match_dt'], 15), axis=1)\n",
        "df_train['best_strikerate2']=df_train.progress_apply(lambda x: topThreeBatsmenStrikeRates(x['team2_roster_ids'], x['match_dt'], 15), axis=1)\n"
      ]
    },
    {
      "cell_type": "code",
      "execution_count": null,
      "metadata": {
        "id": "rZN7ZqTgtx2u"
      },
      "outputs": [],
      "source": [
        "df_train['strike_ratio']=(df_train['best_strikerate1']+1)/(df_train['best_strikerate2']+1)\n",
        "df_train['best_economy1']=df_train.progress_apply(lambda x: topThreeBowlersEconomy(x['team1_roster_ids'], x['match_dt'], 15), axis=1)\n",
        "df_train['best_economy2']=df_train.progress_apply(lambda x: topThreeBowlersEconomy(x['team2_roster_ids'], x['match_dt'], 15), axis=1)\n",
        "df_train['economy_ratio']=(df_train['best_economy1']+1)/(df_train['best_economy2']+1)\n",
        "#cols=['best_batsman1','best_batsman2']"
      ]
    },
    {
      "cell_type": "code",
      "execution_count": null,
      "metadata": {
        "id": "G42kyC2yaMaj"
      },
      "outputs": [],
      "source": [
        "createRnP(df_train, 'runsratio'\t, N=5, ylim_lb=0.3, ylim_ub=0.7)"
      ]
    },
    {
      "cell_type": "code",
      "execution_count": null,
      "metadata": {
        "id": "FY_VbRk0aSZh"
      },
      "outputs": [],
      "source": [
        "createRnP(df_train, 'wicketsratio'\t, N=5, ylim_lb=0.3, ylim_ub=0.7)"
      ]
    },
    {
      "cell_type": "code",
      "execution_count": null,
      "metadata": {
        "id": "Y-sSwA8SseNE"
      },
      "outputs": [],
      "source": [
        "createRnP(df_train, 'best_strikerate1'\t, N=5, ylim_lb=0.3, ylim_ub=0.7)"
      ]
    },
    {
      "cell_type": "code",
      "execution_count": null,
      "metadata": {
        "id": "kLQ8f8gAslza"
      },
      "outputs": [],
      "source": [
        "createRnP(df_train, 'best_strikerate2'\t, N=5, ylim_lb=0.3, ylim_ub=0.7)"
      ]
    },
    {
      "cell_type": "code",
      "execution_count": null,
      "metadata": {
        "id": "gHj7t6m9soAX"
      },
      "outputs": [],
      "source": [
        "createRnP(df_train, 'best_economy1'\t, N=5, ylim_lb=0.3, ylim_ub=0.7)"
      ]
    },
    {
      "cell_type": "code",
      "execution_count": null,
      "metadata": {
        "id": "Jd_u9vyUsqE2"
      },
      "outputs": [],
      "source": [
        "createRnP(df_train,'best_economy2', N=5, ylim_lb=0.3, ylim_ub=0.7)"
      ]
    },
    {
      "cell_type": "code",
      "execution_count": null,
      "metadata": {
        "id": "k7kV85wFsw-q"
      },
      "outputs": [],
      "source": [
        "createRnP(df_train,'strike_ratio', N=5, ylim_lb=0.3, ylim_ub=0.7)"
      ]
    },
    {
      "cell_type": "code",
      "execution_count": null,
      "metadata": {
        "id": "MSxtW6dAsz3h"
      },
      "outputs": [],
      "source": [
        "createRnP(df_train,'economy_ratio', N=5, ylim_lb=0.3, ylim_ub=0.7)"
      ]
    },
    {
      "cell_type": "code",
      "execution_count": null,
      "metadata": {
        "id": "1B4wRSKDUhOs"
      },
      "outputs": [],
      "source": [
        "df_train['team1only_avg_runs_last15'] = df_train.progress_apply(lambda x: \\\n",
        "                                  teamAvgRunsLastn(x['team1_id'], x['match_dt'], 15), axis=1)\n",
        "df_train['team2only_avg_runs_last15'] = df_train.progress_apply(lambda x: \\\n",
        "                                  teamAvgRunsLastn(x['team2_id'], x['match_dt'], 15), axis=1)\n",
        "df_train['ratio_avg_runs_last_15'] = (df_train['team1only_avg_runs_last15']+1)/(df_train['team2only_avg_runs_last15']+1)\n",
        "df_train.drop(columns=['team1only_avg_runs_last15','team2only_avg_runs_last15'], inplace=True) # dropping intermediate columns"
      ]
    },
    {
      "cell_type": "code",
      "execution_count": null,
      "metadata": {
        "id": "soBvGdyRW8wi"
      },
      "outputs": [],
      "source": [
        "df_train['team1_avg_strike_rate_last_15'] = df_train.progress_apply(lambda x: \\\n",
        "                                  teamAvgStrikeRateLastn(x['team1_id'], x['match_dt'], 15), axis=1)\n",
        "df_train['team2_avg_strike_rate_last_15'] = df_train.progress_apply(lambda x: \\\n",
        "                                  teamAvgStrikeRateLastn(x['team2_id'], x['match_dt'], 15), axis=1)\n",
        "df_train['ratio_strike_rate'] = (df_train['team1_avg_strike_rate_last_15']+1)/(df_train['team2_avg_strike_rate_last_15']+1)\n",
        "df_train.drop(columns=['team1_avg_strike_rate_last_15','team2_avg_strike_rate_last_15'], inplace=True) # dropping intermediate columns\n"
      ]
    },
    {
      "cell_type": "code",
      "execution_count": null,
      "metadata": {
        "id": "55tGHJa1Zq9T"
      },
      "outputs": [],
      "source": [
        "df_train['team1only_avg_runs_last5'] = df_train.progress_apply(lambda x: \\\n",
        "                                  teamAvgRunsLastn(x['team1_id'], x['match_dt'], 5), axis=1)\n",
        "df_train['team2only_avg_runs_last5'] = df_train.progress_apply(lambda x: \\\n",
        "                                  teamAvgRunsLastn(x['team2_id'], x['match_dt'], 5), axis=1)\n",
        "\n",
        "df_train['ratio_avg_runs_last_5'] = (df_train['team1only_avg_runs_last5']+1)/(df_train['team2only_avg_runs_last5']+1)\n",
        "df_train.drop(columns=['team1only_avg_runs_last5','team2only_avg_runs_last5'], inplace=True) # dropping intermediate columns"
      ]
    },
    {
      "cell_type": "code",
      "execution_count": null,
      "metadata": {
        "id": "ZRLgVT5tUi8Q"
      },
      "outputs": [],
      "source": [
        "# Computing number of 50 runs in last 15 games for team1 for train dataset.\n",
        "df_train['team1_count_50runs_last15_'] = df_train.progress_apply(lambda x: \\\n",
        "            no50sLastn(player_list=x['team1_roster_ids'], date=x['match_dt'], n=15), axis=1)\n",
        "# Computing number of 50 runs in last 15 games for team2 for train dataset.\n",
        "df_train['team2_count_50runs_last15_'] = df_train.progress_apply(lambda x: \\\n",
        "            no50sLastn(player_list=x['team2_roster_ids'], date=x['match_dt'], n=15), axis=1)\n",
        "\n",
        "df_train['team_count_50runs_last15'] = (df_train['team1_count_50runs_last15_']+1)/(df_train['team2_count_50runs_last15_']+1)\n",
        "df_train.drop(columns=['team1_count_50runs_last15_','team2_count_50runs_last15_'], inplace=True) # dropping intermediate columns"
      ]
    },
    {
      "cell_type": "code",
      "execution_count": null,
      "metadata": {
        "id": "rKlZFzjxazNc"
      },
      "outputs": [],
      "source": [
        "df_train['team1_count_30runs_last15_'] = df_train.progress_apply(lambda x: \\\n",
        "            no30sLastn(player_list=x['team1_roster_ids'], date=x['match_dt'], n=15), axis=1)\n",
        "# Computing number of 30 runs in last 5 games for team2 for train dataset.\n",
        "df_train['team2_count_30runs_last15_'] = df_train.progress_apply(lambda x: \\\n",
        "            no30sLastn(player_list=x['team2_roster_ids'], date=x['match_dt'], n=15), axis=1)\n",
        "\n",
        "df_train['team_count_30runs_last15'] = (df_train['team1_count_30runs_last15_']+1)/(df_train['team2_count_30runs_last15_']+1)\n",
        "df_train.drop(columns=['team1_count_30runs_last15_','team2_count_30runs_last15_'], inplace=True) # dropping intermediate columns"
      ]
    },
    {
      "cell_type": "code",
      "execution_count": null,
      "metadata": {
        "id": "yMf0_TAa52ZW"
      },
      "outputs": [],
      "source": [
        "createRnP(df_train, 'team_count_50runs_last15'\t, N=5, ylim_lb=0.3, ylim_ub=0.7)"
      ]
    },
    {
      "cell_type": "code",
      "execution_count": null,
      "metadata": {
        "id": "Rr43X46uV_Qr"
      },
      "outputs": [],
      "source": [
        "createRnP(df_train, 'ratio_avg_runs_last_5'\t, N=5, ylim_lb=0.3, ylim_ub=0.7)"
      ]
    },
    {
      "cell_type": "code",
      "execution_count": null,
      "metadata": {
        "id": "YNoYGdPPX0iZ"
      },
      "outputs": [],
      "source": [
        "createRnP(df_train, 'ratio_strike_rate'\t, N=5, ylim_lb=0.3, ylim_ub=0.7)"
      ]
    },
    {
      "cell_type": "code",
      "execution_count": null,
      "metadata": {
        "id": "KVB_g4hHbg7k"
      },
      "outputs": [],
      "source": [
        "createRnP(df_train, 'team_count_30runs_last15'\t, N=5, ylim_lb=0.3, ylim_ub=0.7)"
      ]
    },
    {
      "cell_type": "code",
      "execution_count": null,
      "metadata": {
        "id": "44PAW6Ie52XC"
      },
      "outputs": [],
      "source": [
        "# ### 2. team_winp_last5 <br>\n",
        "#\n",
        "# Ratio of team1's win % to team2's win % in last 5 games\n",
        "\n",
        "# In[20]:\n",
        "\n",
        "\n",
        "def winpLastn(team_id, date, n):\n",
        "    '''\n",
        "    Get a team's win % in last n games. If a team has won 3 game out of their last 5, win% is 60%.\n",
        "\n",
        "    Input-\n",
        "    1. team_id: ID of the team to get their last n games and winner information from those games.\n",
        "    2. date: match date from which to get last n historical games.\n",
        "    3. n: look-back window of games.\n",
        "\n",
        "    Output- None\n",
        "\n",
        "    Returns- Float value denoting win% of the team in last n games.\n",
        "    '''\n",
        "    # filter out games with either team1/2_id as input team id, match_dt being before current game's date, sort desc by date, and get top n rows (games)\n",
        "    df_rel = df_match_score[(df_match_score['match_dt']<date)&\\\n",
        "                      ((df_match_score['team1_id']==team_id)|(df_match_score['team2_id']==team_id))]\\\n",
        "                        .sort_values(by='match_dt', ascending=False).head(n)\n",
        "    win_count = df_rel[df_rel['winner_id']==team_id].shape[0] # count number of rows having winner as the input team\n",
        "    if win_count == 0:\n",
        "        return 0\n",
        "    return round(win_count*100/df_rel.shape[0], 2) # return win% rounded to two decimal points"
      ]
    },
    {
      "cell_type": "code",
      "execution_count": null,
      "metadata": {
        "id": "522YKF58z3sK"
      },
      "outputs": [],
      "source": [
        "def winpCrossLastn(team1_id, team2_id, date, n):\n",
        "    '''\n",
        "    Function to compute team1's win% against team2 from the current game in their past n encounters.\n",
        "\n",
        "    Input-\n",
        "    1. team1_id: ID of team1 to calculate win% of.\n",
        "    2. team2_id: ID of team2 to calculate win% against.\n",
        "    3: date: match date of the current game for which the feature is to be calculated.\n",
        "    4. n: look-back window of games for both these teams.\n",
        "\n",
        "    Output- None\n",
        "\n",
        "    Returns- Float value denoting team1's win% against team2 in their past n games against each other.\n",
        "    '''\n",
        "    # filter out games where either team1_id is input team1 and team2_id is input team2, or where team2_id is input team1 and team1_id is input team2.\n",
        "    # Also, match date is less than current games's input date, sort desc by date and get top n rows (games)\n",
        "    df_rel = df_match_score[(df_match_score['match_dt']<date)&\\\n",
        "                      (((df_match_score['team1_id']==team1_id)&(df_match_score['team2_id']==team2_id))|((df_match_score['team1_id']==team2_id)&(df_match_score['team2_id']==team1_id)))]\\\n",
        "                        .sort_values(by='match_dt', ascending=False).head(n)\n",
        "    win_count = df_rel[df_rel['winner_id']==team1_id].shape[0] # Counting number of rows (games) where winner is input team1.\n",
        "    if win_count == 0:\n",
        "        return 0\n",
        "    return round(win_count*100/df_rel.shape[0], 2) # return Float denoting team1's win% against team2 in past n games rounded to 2 decimal places.\n",
        "\n"
      ]
    },
    {
      "cell_type": "code",
      "execution_count": null,
      "metadata": {
        "id": "_H-fTyx03XMm"
      },
      "outputs": [],
      "source": [
        "df_train['team1_winp_team2_last15'] = df_train.progress_apply(lambda x: \\\n",
        "                                  winpCrossLastn(x['team1_id'], x['team2_id'], x['match_dt'], 15), axis=1)"
      ]
    },
    {
      "cell_type": "code",
      "execution_count": null,
      "metadata": {
        "id": "cCcOIlR43XTF"
      },
      "outputs": [],
      "source": [
        "df_train['team1_winp_team2_last5'] = df_train.progress_apply(lambda x: \\\n",
        "                                  winpCrossLastn(x['team1_id'], x['team2_id'], x['match_dt'], 5), axis=1)"
      ]
    },
    {
      "cell_type": "code",
      "execution_count": null,
      "metadata": {
        "id": "AJtjUMqs0sDl"
      },
      "outputs": [],
      "source": [
        "# Compute team1's win% in last 5 games\n",
        "df_train['team1_winp_last5'] = df_train.progress_apply(lambda x: \\\n",
        "                                  winpLastn(x['team1_id'], x['match_dt'], 5), axis=1)\n",
        "# Compute team2's win% in last 5 games\n",
        "df_train['team2_winp_last5'] = df_train.progress_apply(lambda x: \\\n",
        "                                  winpLastn(x['team2_id'], x['match_dt'], 5), axis=1)\n",
        "\n",
        "\n",
        "# In[22]:\n",
        "\n",
        "\n",
        "# Take the ratio of (team1's win% in their last 5 games)/(team2's win% in their last 5 games). Adding 1 to avoid divide by zero error\n",
        "df_train['team_winp_last5_versus'] = (df_train['team1_winp_last5']+1)/(df_train['team2_winp_last5']+1)\n",
        "df_train.drop(columns=['team1_winp_last5', 'team2_winp_last5'], inplace=True) # drop intermediate columns"
      ]
    },
    {
      "cell_type": "code",
      "execution_count": null,
      "metadata": {
        "id": "jwVQAGZdhFIn"
      },
      "outputs": [],
      "source": [
        "# Compute team1's win% in last 15 games\n",
        "df_train['team1_winp_last15'] = df_train.progress_apply(lambda x: \\\n",
        "                                  winpLastn(x['team1_id'], x['match_dt'], 15), axis=1)\n",
        "# Compute team2's win% in last 15 games\n",
        "df_train['team2_winp_last15'] = df_train.progress_apply(lambda x: \\\n",
        "                                  winpLastn(x['team2_id'], x['match_dt'], 15), axis=1)\n",
        "\n",
        "\n",
        "# In[22]:\n",
        "\n",
        "\n",
        "# Take the ratio of (team1's win% in their last 5 games)/(team2's win% in their last 15 games). Adding 1 to avoid divide by zero error\n",
        "df_train['team_winp_last15'] = (df_train['team1_winp_last15']+1)/(df_train['team2_winp_last15']+1)\n",
        "df_train.drop(columns=['team1_winp_last15', 'team2_winp_last15'], inplace=True) # drop intermediate columns"
      ]
    },
    {
      "cell_type": "code",
      "execution_count": null,
      "metadata": {
        "id": "in15iQs5hFS4"
      },
      "outputs": [],
      "source": [
        "# Compute team1's win% in last 1 games\n",
        "df_train['team1_winp_last1'] = df_train.progress_apply(lambda x: \\\n",
        "                                  winpLastn(x['team1_id'], x['match_dt'], 1), axis=1)\n",
        "# Compute team2's win% in last 1 games\n",
        "df_train['team2_winp_last1'] = df_train.progress_apply(lambda x: \\\n",
        "                                  winpLastn(x['team2_id'], x['match_dt'], 1), axis=1)\n",
        "\n",
        "\n",
        "# In[22]:\n",
        "\n",
        "\n",
        "# Take the ratio of (team1's win% in their last 5 games)/(team2's win% in their last 5 games). Adding 1 to avoid divide by zero error\n",
        "df_train['team_winp_last1'] = (df_train['team1_winp_last1']+1)/(df_train['team2_winp_last1']+1)\n",
        "df_train.drop(columns=['team1_winp_last1', 'team2_winp_last1'], inplace=True) # drop intermediate columns"
      ]
    },
    {
      "cell_type": "code",
      "execution_count": null,
      "metadata": {
        "id": "3rKOHLIhgl9T"
      },
      "outputs": [],
      "source": [
        "createRnP(df_train, 'team_winp_last5'\t, N=5, ylim_lb=0.3, ylim_ub=0.7)"
      ]
    },
    {
      "cell_type": "code",
      "execution_count": null,
      "metadata": {
        "id": "vX9AkemL3vkj"
      },
      "outputs": [],
      "source": [
        "createRnP(df_train, 'team1_winp_team2_last15'\t, N=5, ylim_lb=0.3, ylim_ub=0.7)"
      ]
    },
    {
      "cell_type": "code",
      "execution_count": null,
      "metadata": {
        "id": "gJ2xSflk4MMB"
      },
      "outputs": [],
      "source": [
        "createRnP(df_train, 'team1_winp_team2_last5'\t, N=5, ylim_lb=0.3, ylim_ub=0.7)"
      ]
    },
    {
      "cell_type": "code",
      "execution_count": null,
      "metadata": {
        "id": "ykVPCh5tgl_X"
      },
      "outputs": [],
      "source": [
        "createRnP(df_train, 'team_winp_last5_versus'\t, N=5, ylim_lb=0.3, ylim_ub=0.7)"
      ]
    },
    {
      "cell_type": "code",
      "execution_count": null,
      "metadata": {
        "id": "YV1VMn5RgmB8"
      },
      "outputs": [],
      "source": [
        "createRnP(df_train, 'team_winp_last15'\t, N=5, ylim_lb=0.3, ylim_ub=0.7)"
      ]
    },
    {
      "cell_type": "code",
      "execution_count": null,
      "metadata": {
        "id": "xkOtZ76Q5K0t"
      },
      "outputs": [],
      "source": [
        "# ### 5. ground_avg_runs_last15 <br>\n",
        "# average runs scored in the ground in last 15 games\n",
        "\n",
        "# In[38]:\n",
        "\n",
        "\n",
        "def avgRunsGround(ground_id, date, n):\n",
        "    '''\n",
        "    Function to calculate average runs scored in ground/venue.\n",
        "\n",
        "    Input-\n",
        "    1. ground_id: ID of the ground to calculate the feature for.\n",
        "    2. date: match date of the current game to calculate the feature for.\n",
        "    3. n: look-back window of games for the ground.\n",
        "\n",
        "    Output- None\n",
        "\n",
        "    Returns- Average runs scored in the ground.\n",
        "    '''\n",
        "    # filter out games with ground_id being the input ground_id and date earlier than current game's input date. Sort desc by date, and select top n rows (games).\n",
        "    df_rel = df_match_score[(df_match_score['match_dt']<date)&(df_match_score['ground_id']==ground_id)].sort_values(by='match_dt', ascending=False).head(n)\n",
        "    df_rel['avg_runs_inn'] = (df_rel['inning1_runs']+df_rel['inning2_runs'])/2 # take the mean of inning1_runs and inning2_runs in a separate column.\n",
        "    return df_rel['avg_runs_inn'].mean() # Return the mean value of the computed column above.\n"
      ]
    },
    {
      "cell_type": "code",
      "execution_count": null,
      "metadata": {
        "id": "WBiQFpK_5K3R"
      },
      "outputs": [],
      "source": [
        "## Calculate average runs in the ground for last 5 games hosted in that venue for train data.\n",
        "df_train['ground_avg_runs_last5'] = df_train.progress_apply(lambda x: \\\n",
        "                                  avgRunsGround(x['ground_id'], x['match_dt'], 5), axis=1)\n"
      ]
    },
    {
      "cell_type": "code",
      "execution_count": null,
      "metadata": {
        "id": "OLBsGM4S5K57"
      },
      "outputs": [],
      "source": [
        "createRnP(df_train, 'ground_avg_runs_last15'\t, N=5, ylim_lb=0.3, ylim_ub=0.7)"
      ]
    },
    {
      "cell_type": "code",
      "execution_count": null,
      "metadata": {
        "id": "-IoXWt5g5K8a"
      },
      "outputs": [],
      "source": [
        "createRnP(df_train, 'ground_avg_runs_last5'\t, N=5, ylim_lb=0.3, ylim_ub=0.7)"
      ]
    },
    {
      "cell_type": "code",
      "execution_count": null,
      "metadata": {
        "id": "E2SVfgbQ7VXW"
      },
      "outputs": [],
      "source": [
        "def avg_economy_last_n(player_list, date, n):\n",
        "    '''\n",
        "    Function to get average economy of players in the roster of a team in last n games.\n",
        "\n",
        "    Input-\n",
        "    1. player_list: ':' separated list of player ids in the roster of a team.\n",
        "    2. date: match date of the game to calculate this feature.\n",
        "    3. n: Number of games to look-back and create this feature.\n",
        "\n",
        "    Output-None\n",
        "\n",
        "    Returns- int value denoting sum of economy scored by all players in the roster.\n",
        "    '''\n",
        "\n",
        "    player_list = str(player_list).split(':') # split string of ':' separated ids into a list of ids\n",
        "    res_list = []\n",
        "    for player in player_list: # loop over each player_id in roster\n",
        "        df_rel = giveLastNgamesPlayer(player_id=player, date=date, n=n, bat_or_bowl='bowl') # getting bowling stats from last n games for each player.\n",
        "        res_list.append(np.nanmean(df_rel['economy']))# Sum economy for the player and append to a list. We will do this for all players.\n",
        "    return np.nanmean(res_list)# Sum up values of the list which is sum of economy by all players in the roster."
      ]
    },
    {
      "cell_type": "code",
      "execution_count": null,
      "metadata": {
        "id": "kYCPIelh52hW"
      },
      "outputs": [],
      "source": [
        "df_train['team1_economy'] = df_train.progress_apply(lambda x: \\\n",
        "            avg_economy_last_n(player_list=x['team1_roster_ids'], date=x['match_dt'], n=15), axis=1)\n",
        "# Computing number of 50 runs in last 15 games for team2 for train dataset.\n",
        "df_train['team2_economy'] = df_train.progress_apply(lambda x: \\\n",
        "            avg_economy_last_n(player_list=x['team2_roster_ids'], date=x['match_dt'], n=15), axis=1)\n",
        "\n",
        "\n",
        "# In[15]:\n",
        "\n",
        "\n",
        "# Taking ratio of ( economy in last 15 games for team1) to (economy in last 15 games for team2). Adding 1 to handle divide by zero exceptions.\n",
        "df_train['team_avg_economy_last15'] = (df_train['team1_economy']+1)/(df_train['team2_economy']+1)\n",
        "df_train.drop(columns=['team1_economy','team2_economy'], inplace=True) # dropping intermediate columns"
      ]
    },
    {
      "cell_type": "code",
      "execution_count": null,
      "metadata": {
        "id": "9Lg1aaADBPta"
      },
      "outputs": [],
      "source": [
        "df_train['team1_economy'] = df_train.progress_apply(lambda x: \\\n",
        "            avg_economy_last_n(player_list=x['team1_roster_ids'], date=x['match_dt'], n=5), axis=1)\n",
        "# Computing number of 50 runs in last 15 games for team2 for train dataset.\n",
        "df_train['team2_economy'] = df_train.progress_apply(lambda x: \\\n",
        "            avg_economy_last_n(player_list=x['team2_roster_ids'], date=x['match_dt'], n=5), axis=1)\n",
        "\n",
        "\n",
        "# In[15]:\n",
        "\n",
        "\n",
        "# Taking ratio of (economy in last 5 games for team1) to (economyin last 15 games for team2). Adding 1 to handle divide by zero exceptions.\n",
        "df_train['team_avg_economy_last5'] = (df_train['team1_economy']+1)/(df_train['team2_economy']+1)\n",
        "df_train.drop(columns=['team1_economy','team2_economy'], inplace=True) # dropping intermediate columns"
      ]
    },
    {
      "cell_type": "code",
      "execution_count": null,
      "metadata": {
        "id": "htwTZMul9JE-"
      },
      "outputs": [],
      "source": [
        "createRnP(df_train, 'team_avg_economy_last15'\t, N=5, ylim_lb=0.3, ylim_ub=0.7)"
      ]
    },
    {
      "cell_type": "code",
      "execution_count": null,
      "metadata": {
        "id": "02nI6PIuBV41"
      },
      "outputs": [],
      "source": [
        "createRnP(df_train, 'team_avg_economy_last5'\t, N=5, ylim_lb=0.3, ylim_ub=0.7)"
      ]
    },
    {
      "cell_type": "code",
      "execution_count": null,
      "metadata": {
        "id": "9-UBcATg9yVK"
      },
      "outputs": [],
      "source": [
        "df_train"
      ]
    },
    {
      "cell_type": "code",
      "execution_count": null,
      "metadata": {
        "id": "XXFJsBWa9JSX"
      },
      "outputs": [],
      "source": [
        "def avg_wickets_last_n(player_list, date, n):\n",
        "    '''\n",
        "    Function to get average wickets of players in the roster of a team in last n games.\n",
        "\n",
        "    Input-\n",
        "    1. player_list: ':' separated list of player ids in the roster of a team.\n",
        "    2. date: match date of the game to calculate this feature.\n",
        "    3. n: Number of games to look-back and create this feature.\n",
        "\n",
        "    Output-None\n",
        "\n",
        "    Returns- int value denoting wickets scored by all players in the roster.\n",
        "    '''\n",
        "\n",
        "    player_list = str(player_list).split(':') # split string of ':' separated ids into a list of ids\n",
        "    res_list = []\n",
        "    for player in player_list: # loop over each player_id in roster\n",
        "        df_rel = giveLastNgamesPlayer(player_id=player, date=date, n=n, bat_or_bowl='bowl') # getting economy from last n games for each player.\n",
        "        res_list.append(np.nanmean(df_rel['wicket_count']))# Sum up economy for the player and append to a list. We will do this for all players.\n",
        "    return np.nanmean(res_list)# Sum up values of the list which is economy by all players in the roster."
      ]
    },
    {
      "cell_type": "code",
      "execution_count": null,
      "metadata": {
        "id": "HsY6GRaFDgPg"
      },
      "outputs": [],
      "source": [
        "df_train['team1_wickets'] = df_train.progress_apply(lambda x: \\\n",
        "            avg_economy_last_n(player_list=x['team1_roster_ids'], date=x['match_dt'], n=15), axis=1)\n",
        "# Computing number of 50 runs in last 15 games for team2 for train dataset.\n",
        "df_train['team2_wickets'] = df_train.progress_apply(lambda x: \\\n",
        "            avg_economy_last_n(player_list=x['team2_roster_ids'], date=x['match_dt'], n=15), axis=1)\n",
        "\n",
        "\n",
        "# In[15]:\n",
        "\n",
        "\n",
        "# Taking ratio of (number of 50 runs in last 15 games for team1) to (number of 50 runs in last 15 games for team2). Adding 1 to handle divide by zero exceptions.\n",
        "df_train['team_avg_wickets_last15'] = (df_train['team1_wickets']+1)/(df_train['team2_wickets']+1)\n",
        "df_train.drop(columns=['team1_wickets','team2_wickets'], inplace=True) # dropping intermediate columns"
      ]
    },
    {
      "cell_type": "code",
      "execution_count": null,
      "metadata": {
        "id": "Des0f_aHDgSN"
      },
      "outputs": [],
      "source": [
        "createRnP(df_train, 'team_avg_wickets_last15'\t, N=5, ylim_lb=0.3, ylim_ub=0.7)"
      ]
    },
    {
      "cell_type": "code",
      "execution_count": null,
      "metadata": {
        "id": "E0-gS9uWZXLU"
      },
      "outputs": [],
      "source": [
        "def won_last_game(team_name,team_id,date):\n",
        "  # 1 if a team won their last game,-1 if they lost it and 0 if the team hasn't played any game before\n",
        "  df = df_match_score[((df_match_score['team1_id'] == team_id) | (df_match_score['team2_id'] == team_id) )& (df_match_score['match_dt'] < date)]\n",
        "  df.sort_values(by=['match_dt'],inplace = True)\n",
        "  df = df.tail(1)\n",
        "\n",
        "  n=1\n",
        "  if(df.shape[0] < 1):\n",
        "    n = df.shape[0]\n",
        "  if(n==0):\n",
        "    return 0\n",
        "    # if its the teams debut then 0 gets alloted\n",
        "  for i in range(n):\n",
        "    if (df.iloc[i]['winner'] == team_name):\n",
        "      return 1\n",
        "    else:\n",
        "      return -1"
      ]
    },
    {
      "cell_type": "code",
      "execution_count": null,
      "metadata": {
        "id": "81F_APcOZXOS"
      },
      "outputs": [],
      "source": [
        "df_train['won_last_game_1'] = df_train.apply(lambda x: won_last_game(x['team1'], x['team1_id'],x['match_dt']) , axis=1)\n",
        "df_train['won_last_game_2'] = df_train.apply(lambda x: won_last_game(x['team2'], x['team2_id'],x['match_dt']),axis =1)"
      ]
    },
    {
      "cell_type": "code",
      "execution_count": null,
      "metadata": {
        "id": "jF8ELjLoxLKk"
      },
      "outputs": [],
      "source": [
        "def won_last_game_at_ground(team_name,team_id,date,ground_id):\n",
        "  # 1 if a team won their last game,-1 if they lost it and 0 if the team hasn't played any game before\n",
        "  df = df_match_score[(((df_match_score['team1_id'] == team_id) | (df_match_score['team2_id'] == team_id) )& (df_match_score['match_dt'] < date)) & (df_match_score['ground_id'] == ground_id)]\n",
        "  df.sort_values(by=['match_dt'],inplace = True)\n",
        "  df = df.tail(1)\n",
        "\n",
        "  n=1\n",
        "  if(df.shape[0] < 1):\n",
        "    n = df.shape[0]\n",
        "  if(n==0):\n",
        "    return 0\n",
        "    # if the team hasn't played on the ground before then 0 gets alloted\n",
        "  for i in range(n):\n",
        "    if (df.iloc[i]['winner'] == team_name):\n",
        "      return 1\n",
        "    else:\n",
        "      return -1"
      ]
    },
    {
      "cell_type": "code",
      "execution_count": null,
      "metadata": {
        "id": "pjroqK47xLRo"
      },
      "outputs": [],
      "source": [
        "df_train['won_last_game_at_ground1'] = df_train.apply(lambda x: won_last_game(x['team1'], x['team1_id'],x['match_dt']) , axis=1)\n",
        "df_train['won_last_game_at_ground2'] = df_train.apply(lambda x: won_last_game(x['team2'], x['team2_id'],x['match_dt']),axis =1)"
      ]
    },
    {
      "cell_type": "markdown",
      "metadata": {
        "id": "yeQqqSdQ_weF"
      },
      "source": [
        "### Cleaning the final dataset"
      ]
    },
    {
      "cell_type": "code",
      "execution_count": null,
      "metadata": {
        "id": "B_ETvrkhsgpG"
      },
      "outputs": [],
      "source": [
        "del df_train['team1_roster_ids']\n",
        "del df_train['team2_roster_ids']\n",
        "del df_train['winner']\n",
        "del df_train['venue']\n",
        "del df_train['city']\n",
        "del df_train['match_dt']\n",
        "del df_train['lighting']\n",
        "del df_train['series_name']\n",
        "del df_train['ground_id']\n",
        "del df_train['match id']\n",
        "del df_train['season']\n"
      ]
    },
    {
      "cell_type": "code",
      "execution_count": null,
      "metadata": {
        "id": "k_IL2Qofzj6t"
      },
      "outputs": [],
      "source": [
        "df_train.columns"
      ]
    },
    {
      "cell_type": "code",
      "execution_count": null,
      "metadata": {
        "id": "FdOx39_F4Wn-"
      },
      "outputs": [],
      "source": [
        "Index(['team1', 'team1_id', 'team2', 'team2_id', 'winner_id', 'toss winner',\n",
        "       'toss decision', 'team_count_50runs_last15', 'team_winp_last5',\n",
        "       'team1_winp_team2_last15', 'ground_avg_runs_last15', 'target',\n",
        "       'best_batsman1', 'best_batsman2', 'best_bowler1', 'best_bowler2',\n",
        "       'runsratio', 'wicketsratio', 'best_strikerate1', 'best_strikerate2',\n",
        "       'strike_ratio', 'best_economy1', 'best_economy2', 'economy_ratio',\n",
        "       'ratio_avg_runs_last_15', 'ratio_strike_rate', 'ratio_avg_runs_last_5',\n",
        "       'team_count_30runs_last15', 'team1_winp_team2_last5',\n",
        "       'team_winp_last5_versus', 'team_winp_last15', 'team_winp_last1',\n",
        "       'ground_avg_runs_last5', 'team_avg_economy_last15',\n",
        "       'team_avg_economy_last5', 'team_avg_wickets_last15', 'won_last_game_1',\n",
        "       'won_last_game_2', 'won_last_game_at_ground1',\n",
        "       'won_last_game_at_ground2'],\n",
        "      dtype='object')"
      ]
    },
    {
      "cell_type": "code",
      "execution_count": null,
      "metadata": {
        "id": "HPQG55rrzLAC"
      },
      "outputs": [],
      "source": [
        "cols=['strike_ratio','economy_ratio']\n",
        "df_train.drop(cols,axis=1,inplace=True)"
      ]
    },
    {
      "cell_type": "code",
      "execution_count": null,
      "metadata": {
        "id": "Scga9kfczRdH"
      },
      "outputs": [],
      "source": []
    },
    {
      "cell_type": "code",
      "execution_count": null,
      "metadata": {
        "id": "LP5QKFTgui8c"
      },
      "outputs": [],
      "source": [
        "df_train['toss_winner']=(df_train[\"toss winner\"]==df_train[\"team1\"])*1"
      ]
    },
    {
      "cell_type": "code",
      "execution_count": null,
      "metadata": {
        "id": "pN_XmDhSyHTO"
      },
      "outputs": [],
      "source": [
        "del df_train['toss decision']\n"
      ]
    },
    {
      "cell_type": "code",
      "execution_count": null,
      "metadata": {
        "id": "bRWVYUfZ3dCU"
      },
      "outputs": [],
      "source": [
        "del df_train['team1']\n",
        "del df_train['team2']\n"
      ]
    },
    {
      "cell_type": "code",
      "execution_count": null,
      "metadata": {
        "id": "cn-farB05uAJ"
      },
      "outputs": [],
      "source": [
        "del df_train['team1_id']\n",
        "del df_train['team2_id']\n",
        "del df_train['toss winner']"
      ]
    },
    {
      "cell_type": "code",
      "execution_count": null,
      "metadata": {
        "id": "p8bkw8ON6FH6"
      },
      "outputs": [],
      "source": [
        "del df_train['winner_id']"
      ]
    },
    {
      "cell_type": "code",
      "execution_count": null,
      "metadata": {
        "id": "LwyAXwD070NM"
      },
      "outputs": [],
      "source": [
        "df_train"
      ]
    },
    {
      "cell_type": "code",
      "execution_count": null,
      "metadata": {
        "id": "VYPit-uJg37F"
      },
      "outputs": [],
      "source": [
        "df_train.info()"
      ]
    },
    {
      "cell_type": "code",
      "execution_count": null,
      "metadata": {
        "id": "QrNSeg3zCclm"
      },
      "outputs": [],
      "source": [
        "df_train.describe()"
      ]
    },
    {
      "cell_type": "code",
      "execution_count": null,
      "metadata": {
        "id": "3VmWdbDJXioz"
      },
      "outputs": [],
      "source": [
        "df_train"
      ]
    },
    {
      "cell_type": "markdown",
      "metadata": {
        "id": "G3twv3zh_2la"
      },
      "source": [
        "### Train/Test Split"
      ]
    },
    {
      "cell_type": "code",
      "execution_count": null,
      "metadata": {
        "id": "xsuvVAd13259"
      },
      "outputs": [],
      "source": [
        "from sklearn.model_selection import train_test_split"
      ]
    },
    {
      "cell_type": "code",
      "execution_count": null,
      "metadata": {
        "id": "UPM_coqZ4_Tq"
      },
      "outputs": [],
      "source": [
        "train_df,cv_df = train_test_split(df_train,test_size = 0.2,random_state = 40)"
      ]
    },
    {
      "cell_type": "code",
      "execution_count": null,
      "metadata": {
        "id": "kxlvaHCA5SB_"
      },
      "outputs": [],
      "source": [
        "train_df"
      ]
    },
    {
      "cell_type": "code",
      "execution_count": null,
      "metadata": {
        "id": "hsH3DQ5H8XH3"
      },
      "outputs": [],
      "source": [
        "px.histogram(train_df, x='target',title = 'Distribution of Target')"
      ]
    },
    {
      "cell_type": "code",
      "execution_count": null,
      "metadata": {
        "id": "dKiejbjcYYym"
      },
      "outputs": [],
      "source": [
        "df_train"
      ]
    },
    {
      "cell_type": "markdown",
      "metadata": {
        "id": "OdfwlEb2_9o0"
      },
      "source": [
        "### Hyperparameter tuning on XGBOOST and LightGBM"
      ]
    },
    {
      "cell_type": "code",
      "execution_count": null,
      "metadata": {
        "id": "WioorkcMY01f"
      },
      "outputs": [],
      "source": [
        "from sklearn.model_selection import cross_val_score"
      ]
    },
    {
      "cell_type": "code",
      "execution_count": null,
      "metadata": {
        "id": "DBgV2-8c9dQw"
      },
      "outputs": [],
      "source": [
        "from xgboost import XGBClassifier\n",
        "from sklearn.metrics import accuracy_score"
      ]
    },
    {
      "cell_type": "code",
      "execution_count": null,
      "metadata": {
        "id": "dyWVTfEUmyxd"
      },
      "outputs": [],
      "source": []
    },
    {
      "cell_type": "code",
      "execution_count": null,
      "metadata": {
        "colab": {
          "background_save": true,
          "base_uri": "https://localhost:8080/"
        },
        "id": "LSb-XNG3mZph",
        "outputId": "081adfc5-e82f-486f-f70d-1d2b083508b1"
      },
      "outputs": [
        {
          "name": "stdout",
          "output_type": "stream",
          "text": [
            "Fitting 5 folds for each of 8640 candidates, totalling 43200 fits\n"
          ]
        }
      ],
      "source": [
        "from sklearn.model_selection import GridSearchCV\n",
        "from xgboost import XGBClassifier\n",
        "from sklearn.metrics import accuracy_score\n",
        "from sklearn.model_selection import cross_val_score\n",
        "\n",
        "param_grid = {\n",
        "    'n_estimators': [5,6,7,8,9],\n",
        "    'learning_rate': [ 0.05, 0.1],\n",
        "    'max_depth': [3, 4 ],\n",
        "    'min_child_weight': [ 3, 5],\n",
        "    'subsample': [0.6, 0.7],\n",
        "    'colsample_bytree': [0.6, 0.7, 0.8],\n",
        "    'gamma': [0, 0.05, 0.1],\n",
        "    'reg_alpha': [0, 0.01, 0.1],\n",
        "    'min_split_loss': [0, 5 ,10, 20,]\n",
        "}\n",
        "\n",
        "xgb = XGBClassifier()\n",
        "\n",
        "grid_search = GridSearchCV(\n",
        "    estimator=xgb,\n",
        "    param_grid=param_grid,\n",
        "    scoring='accuracy',\n",
        "    cv=5,\n",
        "    verbose=1,\n",
        "    n_jobs=-1\n",
        ")\n",
        "\n",
        "grid_search.fit(df_train.drop(columns=['target']), df_train['target'])\n",
        "best_params = grid_search.best_params_\n",
        "\n",
        "print(\"Best parameters found: \", best_params)"
      ]
    },
    {
      "cell_type": "code",
      "execution_count": null,
      "metadata": {
        "id": "X9R-2zFR9mFn"
      },
      "outputs": [],
      "source": [
        "model = XGBClassifier(colsample_bytree=0.6, gamma=0, learning_rate=0.1, max_depth=4, min_child_weight=5, min_split_loss=5, n_estimators=8, reg_alpha=0.1, subsample=0.6)"
      ]
    },
    {
      "cell_type": "code",
      "execution_count": null,
      "metadata": {
        "id": "LPHBzL9fl9SM"
      },
      "outputs": [],
      "source": [
        "score = cross_val_score(model,df_train.drop(columns=['target']),df_train['target'],cv=5)\n",
        "score.mean()"
      ]
    },
    {
      "cell_type": "code",
      "execution_count": null,
      "metadata": {
        "id": "DX03lQ7MmwSL"
      },
      "outputs": [],
      "source": [
        "X = df_train.drop('target',axis=1)\n",
        "y = df_train['target']"
      ]
    },
    {
      "cell_type": "code",
      "execution_count": null,
      "metadata": {
        "id": "LQ152LMhmwgF"
      },
      "outputs": [],
      "source": [
        "df_train_copy2 = df_train.copy()"
      ]
    },
    {
      "cell_type": "code",
      "execution_count": null,
      "metadata": {
        "id": "5UlfbOfKsZDa"
      },
      "outputs": [],
      "source": [
        "df_train.fillna(df_train.mean(),inplace=True) # Testing whether NaN values should be left too the model or dealt with ourselves."
      ]
    },
    {
      "cell_type": "code",
      "execution_count": null,
      "metadata": {
        "id": "j61qMzyMsQAN"
      },
      "outputs": [],
      "source": [
        "X = df_train.drop('target',axis=1)\n",
        "y = df_train['target']"
      ]
    },
    {
      "cell_type": "code",
      "execution_count": null,
      "metadata": {
        "id": "s5OJuajeuKMK"
      },
      "outputs": [],
      "source": [
        "# It is best if NaN values are filled before hand."
      ]
    },
    {
      "cell_type": "code",
      "execution_count": null,
      "metadata": {
        "id": "qNEtthhRsQH4"
      },
      "outputs": [],
      "source": [
        "model"
      ]
    },
    {
      "cell_type": "code",
      "execution_count": null,
      "metadata": {
        "id": "bdMg2dbk4Z9X"
      },
      "outputs": [],
      "source": [
        "model = LGBMClassifier(n_estimators=9,reg_alpha=0,max_depth=4,colsample_bytree=0.6,min_split_gain=5,learning_rate=0.1)"
      ]
    },
    {
      "cell_type": "code",
      "execution_count": null,
      "metadata": {
        "id": "RCkRzZXH4tIE"
      },
      "outputs": [],
      "source": [
        "score = cross_val_score(model,df_train.drop(columns=['target']),df_train['target'],cv=5)\n",
        "score.mean()"
      ]
    },
    {
      "cell_type": "markdown",
      "metadata": {
        "id": "Pgb2entRrSoV"
      },
      "source": [
        "### Training the model"
      ]
    },
    {
      "cell_type": "code",
      "execution_count": null,
      "metadata": {
        "id": "8Btc6KV-rYx5"
      },
      "outputs": [],
      "source": [
        "model.fit(df_train.drop(columns=['target']),df_train['target'])"
      ]
    },
    {
      "cell_type": "code",
      "execution_count": null,
      "metadata": {
        "id": "zTtGR1Iqrs8-"
      },
      "outputs": [],
      "source": [
        "train_preds = model.predict_proba(df_train.drop(columns=['target']))"
      ]
    },
    {
      "cell_type": "code",
      "execution_count": null,
      "metadata": {
        "id": "JkBC88M3r5_3"
      },
      "outputs": [],
      "source": [
        "train_preds"
      ]
    },
    {
      "cell_type": "markdown",
      "metadata": {
        "id": "cVJtnfAgsTNZ"
      },
      "source": [
        "### **FORMATTING THE TEST SET**"
      ]
    },
    {
      "cell_type": "code",
      "execution_count": null,
      "metadata": {
        "id": "q7OxsiOSsPrJ"
      },
      "outputs": [],
      "source": [
        "# df_test=pd.read_csv('/content/6644a1e287df6_test_data_with_samplefeatures.csv')"
      ]
    },
    {
      "cell_type": "code",
      "execution_count": null,
      "metadata": {
        "id": "x9S0EkQ8si8_"
      },
      "outputs": [],
      "source": [
        "df_test['team1only_avg_runs_last15'] = df_test.progress_apply(lambda x: \\\n",
        "                                  teamAvgRunsLastn(x['team1_id'], x['match_dt'], 15), axis=1)\n",
        "df_test['team2only_avg_runs_last15'] = df_test.progress_apply(lambda x: \\\n",
        "                                  teamAvgRunsLastn(x['team2_id'], x['match_dt'], 15), axis=1)\n",
        "df_test['ratio_avg_runs_last_15'] = (df_test['team1only_avg_runs_last15']+1)/(df_test['team2only_avg_runs_last15']+1)\n",
        "df_test.drop(columns=['team1only_avg_runs_last15','team2only_avg_runs_last15'], inplace=True) # dropping intermediate columns\n",
        "df_test['team1_avg_strike_rate_last_15'] = df_test.progress_apply(lambda x: \\\n",
        "                                  teamAvgStrikeRateLastn(x['team1_id'], x['match_dt'], 15), axis=1)\n",
        "df_test['team2_avg_strike_rate_last_15'] = df_test.progress_apply(lambda x: \\\n",
        "                                  teamAvgStrikeRateLastn(x['team2_id'], x['match_dt'], 15), axis=1)\n",
        "df_test['ratio_strike_rate'] = (df_test['team1_avg_strike_rate_last_15']+1)/(df_test['team2_avg_strike_rate_last_15']+1)\n",
        "df_test.drop(columns=['team1_avg_strike_rate_last_15','team2_avg_strike_rate_last_15'], inplace=True) # dropping intermediate columns\n",
        "df_test['team1only_avg_runs_last5'] = df_test.progress_apply(lambda x: \\\n",
        "                                  teamAvgRunsLastn(x['team1_id'], x['match_dt'], 5), axis=1)\n",
        "df_test['team2only_avg_runs_last5'] = df_test.progress_apply(lambda x: \\\n",
        "                                  teamAvgRunsLastn(x['team2_id'], x['match_dt'], 5), axis=1)\n",
        "df_test['ratio_avg_runs_last_5'] = (df_test['team1only_avg_runs_last5']+1)/(df_test['team2only_avg_runs_last5']+1)\n",
        "df_test.drop(columns=['team1only_avg_runs_last5','team2only_avg_runs_last5'], inplace=True) # dropping intermediate columns\n",
        "# Computing number of 50 runs in last 15 games for team1 for train dataset.\n",
        "df_test['team1_count_50runs_last15_'] = df_test.progress_apply(lambda x: \\\n",
        "            no50sLastn(player_list=x['team1_roster_ids'], date=x['match_dt'], n=15), axis=1)\n",
        "# Computing number of 50 runs in last 15 games for team2 for train dataset.\n",
        "df_test['team2_count_50runs_last15_'] = df_test.progress_apply(lambda x: \\\n",
        "            no50sLastn(player_list=x['team2_roster_ids'], date=x['match_dt'], n=15), axis=1)\n",
        "\n",
        "df_test['team_count_50runs_last15'] = (df_test['team1_count_50runs_last15_']+1)/(df_test['team2_count_50runs_last15_']+1)\n",
        "df_test.drop(columns=['team1_count_50runs_last15_','team2_count_50runs_last15_'], inplace=True) # dropping intermediate columns\n",
        "df_test['team1_count_30runs_last15_'] = df_test.progress_apply(lambda x: \\\n",
        "            no30sLastn(player_list=x['team1_roster_ids'], date=x['match_dt'], n=15), axis=1)\n",
        "# Computing number of 30 runs in last 5 games for team2 for train dataset.\n",
        "df_test['team2_count_30runs_last15_'] = df_test.progress_apply(lambda x: \\\n",
        "            no30sLastn(player_list=x['team2_roster_ids'], date=x['match_dt'], n=15), axis=1)\n",
        "\n",
        "df_test['team_count_30runs_last15'] = (df_test['team1_count_30runs_last15_']+1)/(df_test['team2_count_30runs_last15_']+1)\n",
        "df_test.drop(columns=['team1_count_30runs_last15_','team2_count_30runs_last15_'], inplace=True) # dropping intermediate columns\n",
        "df_test['team1_winp_team2_last15'] = df_test.progress_apply(lambda x: \\\n",
        "                                  winpCrossLastn(x['team1_id'], x['team2_id'], x['match_dt'], 15), axis=1)\n",
        "df_test['team1_winp_team2_last5'] = df_test.progress_apply(lambda x: \\\n",
        "                                  winpCrossLastn(x['team1_id'], x['team2_id'], x['match_dt'], 5), axis=1)\n",
        "# Compute team1's win% in last 5 games\n",
        "df_test['team1_winp_last5'] = df_test.progress_apply(lambda x: \\\n",
        "                                  winpLastn(x['team1_id'], x['match_dt'], 5), axis=1)\n",
        "# Compute team2's win% in last 5 games\n",
        "df_test['team2_winp_last5'] = df_test.progress_apply(lambda x: \\\n",
        "                                  winpLastn(x['team2_id'], x['match_dt'], 5), axis=1)\n",
        "\n",
        "df_test['best_batsman1']=df_test.progress_apply(lambda x: topThreeBatsmenRuns(x['team1_roster_ids'], x['match_dt'], 15), axis=1)\n",
        "df_test['best_batsman2']=df_test.progress_apply(lambda x: topThreeBatsmenRuns(x['team2_roster_ids'], x['match_dt'], 15), axis=1)\n",
        "df_test['best_bowler1']=df_test.progress_apply(lambda x: topThreeBowlersWickets(x['team1_roster_ids'], x['match_dt'], 15), axis=1)\n",
        "df_test['best_bowler2']=df_test.progress_apply(lambda x: topThreeBowlersWickets(x['team2_roster_ids'], x['match_dt'], 15), axis=1)\n",
        "df_test['runsratio']=(df_test['best_batsman1']+1)/(df_test['best_batsman2']+1)\n",
        "df_test['wicketsratio']=(df_test['best_bowler1']+1)/(df_test['best_bowler2']+1)\n",
        "#cols=['best_batsman1','best_batsman2']\n",
        "# In[22]:\n",
        "\n",
        "\n",
        "# Take the ratio of (team1's win% in their last 5 games)/(team2's win% in their last 5 games). Adding 1 to avoid divide by zero error\n",
        "df_test['team_winp_last5_versus'] = (df_test['team1_winp_last5']+1)/(df_test['team2_winp_last5']+1)\n",
        "df_test.drop(columns=['team1_winp_last5', 'team2_winp_last5'], inplace=True) # drop intermediate columns\n",
        "# Compute team1's win% in last 15 games\n",
        "df_test['team1_winp_last15'] = df_test.progress_apply(lambda x: \\\n",
        "                                  winpLastn(x['team1_id'], x['match_dt'], 15), axis=1)\n",
        "# Compute team2's win% in last 15 games\n",
        "df_test['team2_winp_last15'] = df_test.progress_apply(lambda x: \\\n",
        "                                  winpLastn(x['team2_id'], x['match_dt'], 15), axis=1)\n",
        "\n",
        "\n",
        "# In[22]:\n",
        "\n",
        "\n",
        "# Take the ratio of (team1's win% in their last 5 games)/(team2's win% in their last 15 games). Adding 1 to avoid divide by zero error\n",
        "df_test['team_winp_last15'] = (df_test['team1_winp_last15']+1)/(df_test['team2_winp_last15']+1)\n",
        "df_test.drop(columns=['team1_winp_last15', 'team2_winp_last15'], inplace=True) # drop intermediate columns\n",
        "# Compute team1's win% in last 1 games\n",
        "df_test['team1_winp_last1'] = df_test.progress_apply(lambda x: \\\n",
        "                                  winpLastn(x['team1_id'], x['match_dt'], 1), axis=1)\n",
        "# Compute team2's win% in last 1 games\n",
        "df_test['team2_winp_last1'] = df_test.progress_apply(lambda x: \\\n",
        "                                  winpLastn(x['team2_id'], x['match_dt'], 1), axis=1)\n",
        "\n",
        "\n",
        "# In[22]:\n",
        "\n",
        "\n",
        "# Take the ratio of (team1's win% in their last 5 games)/(team2's win% in their last 5 games). Adding 1 to avoid divide by zero error\n",
        "df_test['team_winp_last1'] = (df_test['team1_winp_last1']+1)/(df_test['team2_winp_last1']+1)\n",
        "df_test.drop(columns=['team1_winp_last1', 'team2_winp_last1'], inplace=True) # drop intermediate columns\n",
        "## Calculate average runs in the ground for last 5 games hosted in that venue for train data.\n",
        "df_test['ground_avg_runs_last5'] = df_test.progress_apply(lambda x: \\\n",
        "                                  avgRunsGround(x['ground_id'], x['match_dt'], 5), axis=1)\n",
        "\n",
        "df_test['team1_economy'] = df_test.progress_apply(lambda x: \\\n",
        "            avg_economy_last_n(player_list=x['team1_roster_ids'], date=x['match_dt'], n=15), axis=1)\n",
        "# Computing number of 50 runs in last 15 games for team2 for train dataset.\n",
        "df_test['team2_economy'] = df_test.progress_apply(lambda x: \\\n",
        "            avg_economy_last_n(player_list=x['team2_roster_ids'], date=x['match_dt'], n=15), axis=1)\n",
        "\n",
        "\n",
        "# In[15]:\n",
        "\n",
        "\n",
        "# Taking ratio of ( economy in last 15 games for team1) to (economy in last 15 games for team2). Adding 1 to handle divide by zero exceptions.\n",
        "df_test['team_avg_economy_last15'] = (df_test['team1_economy']+1)/(df_test['team2_economy']+1)\n",
        "df_test.drop(columns=['team1_economy','team2_economy'], inplace=True) # dropping intermediate columns\n",
        "df_test['team1_economy'] = df_test.progress_apply(lambda x: \\\n",
        "            avg_economy_last_n(player_list=x['team1_roster_ids'], date=x['match_dt'], n=5), axis=1)\n",
        "# Computing number of 50 runs in last 15 games for team2 for train dataset.\n",
        "df_test['team2_economy'] = df_test.progress_apply(lambda x: \\\n",
        "            avg_economy_last_n(player_list=x['team2_roster_ids'], date=x['match_dt'], n=5), axis=1)\n",
        "\n",
        "\n",
        "# In[15]:\n",
        "\n",
        "\n",
        "# Taking ratio of (economy in last 5 games for team1) to (economyin last 15 games for team2). Adding 1 to handle divide by zero exceptions.\n",
        "df_test['team_avg_economy_last5'] = (df_test['team1_economy']+1)/(df_test['team2_economy']+1)\n",
        "df_test.drop(columns=['team1_economy','team2_economy'], inplace=True) # dropping intermediate columns\n",
        "df_test['team1_wickets'] = df_test.progress_apply(lambda x: \\\n",
        "            avg_economy_last_n(player_list=x['team1_roster_ids'], date=x['match_dt'], n=15), axis=1)\n",
        "# Computing number of 50 runs in last 15 games for team2 for train dataset.\n",
        "df_test['team2_wickets'] = df_test.progress_apply(lambda x: \\\n",
        "            avg_economy_last_n(player_list=x['team2_roster_ids'], date=x['match_dt'], n=15), axis=1)\n",
        "\n",
        "\n",
        "# In[15]:\n",
        "\n",
        "\n",
        "# Taking ratio of (number of 50 runs in last 15 games for team1) to (number of 50 runs in last 15 games for team2). Adding 1 to handle divide by zero exceptions.\n",
        "df_test['team_avg_wickets_last15'] = (df_test['team1_wickets']+1)/(df_test['team2_wickets']+1)\n",
        "df_test.drop(columns=['team1_wickets','team2_wickets'], inplace=True) # dropping intermediate columns\n"
      ]
    },
    {
      "cell_type": "code",
      "execution_count": null,
      "metadata": {
        "id": "KAKH1JEWtWsx"
      },
      "outputs": [],
      "source": [
        "df_test.columns"
      ]
    },
    {
      "cell_type": "code",
      "execution_count": null,
      "metadata": {
        "id": "25w4AKIrDbg4"
      },
      "outputs": [],
      "source": [
        "df_test['best_strikerate1']=df_test.progress_apply(lambda x: topThreeBatsmenStrikeRates(x['team1_roster_ids'], x['match_dt'], 15), axis=1)\n",
        "df_test['best_strikerate2']=df_test.progress_apply(lambda x: topThreeBatsmenStrikeRates(x['team2_roster_ids'], x['match_dt'], 15), axis=1)\n",
        "df_test['best_economy1']=df_test.progress_apply(lambda x: topThreeBowlersEconomy(x['team1_roster_ids'], x['match_dt'], 15), axis=1)\n",
        "df_test['best_economy2']=df_test.progress_apply(lambda x: topThreeBowlersEconomy(x['team2_roster_ids'], x['match_dt'], 15), axis=1)"
      ]
    },
    {
      "cell_type": "code",
      "execution_count": null,
      "metadata": {
        "id": "JKIQniVKtZO6"
      },
      "outputs": [],
      "source": [
        "df_train.columns"
      ]
    },
    {
      "cell_type": "code",
      "execution_count": null,
      "metadata": {
        "id": "nJ3P9SCi4GEt"
      },
      "outputs": [],
      "source": [
        "df_test['won_last_game_1'] = df_test.apply(lambda x: won_last_game(x['team1'], x['team1_id'],x['match_dt']) , axis=1)\n",
        "df_test['won_last_game_2'] = df_test.apply(lambda x: won_last_game(x['team2'], x['team2_id'],x['match_dt']),axis =1)\n",
        "df_test['won_last_game_at_ground1'] = df_test.apply(lambda x: won_last_game(x['team1'], x['team1_id'],x['match_dt']) , axis=1)\n",
        "df_test['won_last_game_at_ground2'] = df_test.apply(lambda x: won_last_game(x['team2'], x['team2_id'],x['match_dt']),axis =1)\n",
        "del df_test['team1_roster_ids']\n",
        "del df_test['team2_roster_ids']\n",
        "del df_test['venue']\n",
        "del df_test['city']\n",
        "del df_test['match_dt']\n",
        "del df_test['lighting']\n",
        "del df_test['series_name']\n",
        "del df_test['ground_id']\n",
        "del df_test['match id']\n",
        "del df_test['season']\n",
        "df_test['toss_winner']=(df_test[\"toss winner\"]==df_test[\"team1\"])*1\n",
        "del df_test['toss decision']\n",
        "del df_test['team1']\n",
        "del df_test['team2']\n",
        "del df_test['team1_id']\n",
        "del df_test['team2_id']\n",
        "del df_test['toss winner']\n",
        "# average_team1only_avg_runs_last15 = np.mean(df_test.team1only_avg_runs_last15)\n",
        "# average_ground_avg_runs_last15 = np.mean(df_test.ground_avg_runs_last15)\n",
        "# df_test['team1only_avg_runs_last15'].fillna(average_team1only_avg_runs_last15 ,inplace = True)\n",
        "# df_test['ground_avg_runs_last15'].fillna(average_ground_avg_runs_last15,inplace = True)\n",
        "\n"
      ]
    },
    {
      "cell_type": "code",
      "execution_count": null,
      "metadata": {
        "id": "l1TijYpeuTO8"
      },
      "outputs": [],
      "source": [
        "df_test.fillna(df_test.mean(),inplace=True)"
      ]
    },
    {
      "cell_type": "code",
      "execution_count": null,
      "metadata": {
        "id": "xaDQw65fvVZT"
      },
      "outputs": [],
      "source": [
        "df_train.columns"
      ]
    },
    {
      "cell_type": "code",
      "execution_count": null,
      "metadata": {
        "id": "GiiRaNY346pa"
      },
      "outputs": [],
      "source": [
        "df_test"
      ]
    },
    {
      "cell_type": "code",
      "execution_count": null,
      "metadata": {
        "id": "eiqwI6XFDWD9"
      },
      "outputs": [],
      "source": [
        "desired_columns = ['team_count_50runs_last15', 'team_winp_last5',\n",
        "       'team1_winp_team2_last15', 'ground_avg_runs_last15',\n",
        "       'best_batsman1', 'best_batsman2', 'best_bowler1', 'best_bowler2',\n",
        "       'runsratio', 'wicketsratio', 'best_strikerate1', 'best_strikerate2',\n",
        "       'best_economy1', 'best_economy2', 'ratio_avg_runs_last_15',\n",
        "       'ratio_strike_rate', 'ratio_avg_runs_last_5',\n",
        "       'team_count_30runs_last15', 'team1_winp_team2_last5',\n",
        "       'team_winp_last5_versus', 'team_winp_last15', 'team_winp_last1',\n",
        "       'ground_avg_runs_last5', 'team_avg_economy_last15',\n",
        "       'team_avg_economy_last5', 'team_avg_wickets_last15', 'won_last_game_1',\n",
        "       'won_last_game_2', 'won_last_game_at_ground1',\n",
        "       'won_last_game_at_ground2', 'toss_winner']\n",
        "\n",
        "# Reindex both dataframes to match the desired column order\n",
        "\n",
        "df_test = df_test.reindex(columns=desired_columns)"
      ]
    },
    {
      "cell_type": "code",
      "execution_count": null,
      "metadata": {
        "id": "qyGT6Ama49Ez"
      },
      "outputs": [],
      "source": [
        "test_preds = model.predict_proba(df_test)"
      ]
    },
    {
      "cell_type": "code",
      "execution_count": null,
      "metadata": {
        "id": "UFbunm3q5G6f"
      },
      "outputs": [],
      "source": [
        "test_preds"
      ]
    },
    {
      "cell_type": "markdown",
      "metadata": {
        "id": "nySu95KoRdox"
      },
      "source": []
    },
    {
      "cell_type": "code",
      "execution_count": null,
      "metadata": {
        "id": "-holJvwWtyyX"
      },
      "outputs": [],
      "source": [
        "df_submission = pd.DataFrame(columns = ['match id','dataset_type','win_pred_team_id','win_pred_score(for win_pred_team_id)','train_algorithm','Ensemble?(if yes, then comma separated train_algo)','train_hps_trees','train_hps_depth','train_hps_lr','indep_feat_id1',\n",
        "                                        'indep_feat_id2','indep_feat_id3','indep_feat_id4','indep_feat_id5','indep_feat_id6','indep_feat_id7'])"
      ]
    },
    {
      "cell_type": "code",
      "execution_count": null,
      "metadata": {
        "id": "CWod0wyk5zVT"
      },
      "outputs": [],
      "source": [
        "df_submission"
      ]
    },
    {
      "cell_type": "code",
      "execution_count": null,
      "metadata": {
        "id": "ZQiLux_y5yET"
      },
      "outputs": [],
      "source": [
        "for i in range(len(test_preds)):\n",
        "  df_submission.loc[i] = [df_test_copy['match id'].iloc[i],'r1','placeholder',test_preds[i][1],'lightboost','no','9','4','0.1',df_test['won_last_game_1'].iloc[i],df_test['won_last_game_2'].iloc[i],\n",
        "                          df_test['team_count_50runs_last15'].iloc[i],df_test['team_winp_last5'].iloc[i],df_test['team_count_50runs_last15'].iloc[i],df_test['team1_winp_team2_last15'].iloc[i],\n",
        "                         df_test['ground_avg_runs_last15'].iloc[i] ]\n",
        "\n"
      ]
    },
    {
      "cell_type": "code",
      "execution_count": null,
      "metadata": {
        "id": "PvPXa3eD6J45"
      },
      "outputs": [],
      "source": [
        "for i in range(len(test_preds)):\n",
        "  if(df_submission['win_pred_score(for win_pred_team_id)'][i]>0.5):\n",
        "    df_submission['win_pred_team_id'][i] = df_test_copy['team1_id'][i]\n",
        "  else:\n",
        "    df_submission['win_pred_team_id'][i] = df_test_copy['team2_id'][i]\n",
        "\n",
        "df_test['win_pred_team_id'] = df_submission['win_pred_team_id']"
      ]
    },
    {
      "cell_type": "code",
      "execution_count": null,
      "metadata": {
        "id": "yMp0_NIhRgFZ"
      },
      "outputs": [],
      "source": [
        "df_train['dataset_type'] = 'train'\n",
        "df_test['dataset_type'] = 'r1'\n",
        "df_test['match id'] = df_test_copy['match id']\n",
        "df_train['match id'] = df_train_copy['match id']\n",
        "df_test['win_pred_score'] = test_preds[:,1]"
      ]
    },
    {
      "cell_type": "code",
      "execution_count": null,
      "metadata": {
        "id": "pFmcioNq-GWt"
      },
      "outputs": [],
      "source": [
        "for i in range(len(train_preds)):\n",
        "  df_submission.loc[271+i] = [df_train_copy['match id'].iloc[i],'train','placeholder',train_preds[i][1],'lightboost','no','9','4','0.1',df_train['won_last_game_1'].iloc[i],df_train['won_last_game_2'].iloc[i],df_train['team_count_50runs_last15'].iloc[i],df_train['team_winp_last5'].iloc[i],df_train['team_count_50runs_last15'].iloc[i],df_train['team1_winp_team2_last15'].iloc[i],\n",
        "                         df_train['ground_avg_runs_last15'].iloc[i]]\n",
        "\n",
        "\n"
      ]
    },
    {
      "cell_type": "code",
      "execution_count": null,
      "metadata": {
        "id": "EOgtfCFTYQU-"
      },
      "outputs": [],
      "source": [
        "df_train['win_pred_score'] = 0"
      ]
    },
    {
      "cell_type": "code",
      "execution_count": null,
      "metadata": {
        "id": "bCzhqWPXAPKe"
      },
      "outputs": [],
      "source": [
        "df_train['win_pred_team_id'] = 0"
      ]
    },
    {
      "cell_type": "code",
      "execution_count": null,
      "metadata": {
        "id": "tfrVlh3TXK1U"
      },
      "outputs": [],
      "source": [
        "for i in range(len(train_preds)):\n",
        "  if(df_submission['win_pred_score(for win_pred_team_id)'][i]>0.5):\n",
        "    df_submission['win_pred_team_id'].loc[271+i] = df_train_copy['team1_id'][i]\n",
        "    df_train['win_pred_team_id'][i] = df_submission['win_pred_team_id'].iloc[271+i]\n",
        "\n",
        "    df_train['win_pred_score'][i] = df_submission['win_pred_score(for win_pred_team_id)'].iloc[271+i]\n",
        "  else:\n",
        "    df_submission['win_pred_team_id'].loc[271+i] = df_train_copy['team2_id'][i]\n",
        "    df_train['win_pred_team_id'][i] = df_submission['win_pred_team_id'].iloc[271+i]\n",
        "    df_train['win_pred_score'][i] = df_submission['win_pred_score(for win_pred_team_id)'].iloc[271+i]"
      ]
    },
    {
      "cell_type": "code",
      "execution_count": null,
      "metadata": {
        "id": "fGqujfrzz6ha"
      },
      "outputs": [],
      "source": [
        "model"
      ]
    },
    {
      "cell_type": "code",
      "execution_count": null,
      "metadata": {
        "id": "TLfRp9Lxz8nJ"
      },
      "outputs": [],
      "source": [
        "model.fit(df_train.drop(['win_pred_team_id','win_pred_score','dataset_type','match id','target'],axis = 1), df_train.drop(['win_pred_team_id','win_pred_score','dataset_type','match id'],axis = 1).target)"
      ]
    },
    {
      "cell_type": "code",
      "execution_count": null,
      "metadata": {
        "id": "7Uhopezm06Vn"
      },
      "outputs": [],
      "source": [
        "from sklearn.ensemble import RandomForestClassifier"
      ]
    },
    {
      "cell_type": "code",
      "execution_count": null,
      "metadata": {
        "id": "HP4dfj1P5v2A"
      },
      "outputs": [],
      "source": [
        "df_train"
      ]
    },
    {
      "cell_type": "code",
      "execution_count": null,
      "metadata": {
        "id": "XbumTdja57ej"
      },
      "outputs": [],
      "source": [
        "model = XGBClassifier(n_estimators=9,reg_alpha=0,max_depth=4,colsample_bytree=0.6,min_split_gain=5,learning_rate=0.1)"
      ]
    },
    {
      "cell_type": "code",
      "execution_count": null,
      "metadata": {
        "id": "UYH9Nf2O6bDZ"
      },
      "outputs": [],
      "source": [
        "model.fit(df_train.drop(['win_pred_team_id','win_pred_score','dataset_type','match id','target'],axis=1),df_train.target)"
      ]
    },
    {
      "cell_type": "code",
      "execution_count": null,
      "metadata": {
        "id": "2CPpTJd81vHm"
      },
      "outputs": [],
      "source": [
        "df_feat_importance = pd.DataFrame({'feat_name':df_train.drop(['win_pred_team_id','win_pred_score','dataset_type','match id','target'],axis = 1).columns.tolist(), 'model_feat_imp_train':model.feature_importances_}).sort_values(by='model_feat_imp_train', ascending=False)\\\n",
        "                                                                                                                        .reset_index(drop=True).head(10)\n",
        "df_feat_importance"
      ]
    },
    {
      "cell_type": "code",
      "execution_count": null,
      "metadata": {
        "id": "UDEc9c-61vC2"
      },
      "outputs": [],
      "source": [
        "feature_desc = {'team_count_50runs_last15':'Ratio of number of 50s by players in team1 to number of 50s by players in team2 in last 15 games',\\\n",
        "               'team_winp_last5':'Ratio of team1\\'s win % to team2\\'s win % in last 5 games',\\\n",
        "               'ground_avg_runs_last15':'average runs scored in the ground in last 15 games',\\\n",
        "               'team1_winp_team2_last15':'Team1\\'s win percentage against Team2 in last 15 games',\\\n",
        "               'team1only_avg_runs_last15':'team1\\'s avg inning runs in last 15 games',\\\n",
        "               'won_last_game_2' : 'Whether team2 won their last game',\\\n",
        "               'won_last_game_1' : 'Whether team1 won their last game',\\\n",
        "                'ratio_avg_runs_last_15' : 'Ratio of team1\\'s avg runs to team2\\'s avg runs in last 15 games',\\\n",
        "                'team_winp_last15' : 'Ratio of team1\\'s win % to team2\\'s win % in last 15 games',\\\n",
        "                'team_count_30runs_last15' : 'Ratio of number of 30s by players in team1 to number of 30s by players in team2 in last 15 games',\\\n",
        "                'team_avg_wickets_last15' : 'Ratio of team1\\'s avg wickets to team2\\'s avg wickets in last 15 games',\\\n",
        "                'ground_avg_runs_last5' : 'average runs scored in the ground in last 5 games',\\\n",
        "                'team_avg_economy_last15' : 'Ratio of team1\\'s avg economy to team2\\'s avg economy in last 15 games',\\\n",
        "                'toss_winner' : '1 if team1 won the toss',\\\n",
        "                'toss_winner_01' : 'Toss winner to numerical - 1 if team2 wins, else 0',\\\n",
        "                'toss_decision_01' : 'Toss decision - categorical - 1 if winner bats, 0 otherwise',\\\n",
        "                'beststrikerate1': 'Best batsman\\'s strike rate in last 15 games',\\\n",
        "                'beststrikerate2': 'Best bowler\\'s strike rate in last 15 games',\\\n",
        "                'boundary_runs_scored1': 'Number of boundary runs scored by team1 in last 5 games',\\\n",
        "                'boundary_runs_scored2': 'Number of boundary runs scored by team2 in last 5 games',\\\n",
        "                'wicketsratio': 'Ratio of team1\\'s wickets to team2\\'s wickets in last 15 games',\\\n",
        "                'best_batsman1': 'Best batsman\\'s runs in last 15 games',\\\n",
        "                'best_batsman2': 'Best bowler\\'s runs in last 15 games',\\\n",
        "                'runsratio':'ratio of team 1s runs in last 15 games to team2s runs',\\\n",
        "                'boundary_runs_percentage1': 'Percentage of boundary runs scored by team1 in last 5 games',\\\n",
        "                'boundary_runs_percentage2': 'Percentage of boundary runs scored by team2 in last 5 games',\\\n",
        "                'best_strikerate1': 'Best batsman\\'s strike rate in last 15 games',\\\n",
        "                'best_strikerate2': 'Best bowler\\'s strike rate in last 15 games',\\\n",
        "                'boundary_runs_scoredratio_last15': 'Ratio of team1\\'s boundary runs scored to team2\\'s boundary runs scored in last 15 games',\\\n",
        "                'boundary_runs_percentage_ratio_last15': 'Ratio of team1\\'s boundary runs percentage to team2\\'s boundary runs percentage in last 15 games',\\\n",
        "                'best_bowler1': 'Best bowler\\'s wickets in last 15 games',\\\n",
        "                'best_bowler2': 'Best bowler\\'s wickets in last 15 games',\\\n",
        "                'runsratio_last20': 'Ratio of team1\\'s runs to team2\\'s runs in last 20 games',\\\n",
        "                'economy_ratio': 'Ratio of team1\\'s economy to team2\\'s economy in last 15 games',\\\n",
        "                'team1_economy': 'team1\\'s economy in last 15 games',\\\n",
        "                'team2_economy': 'team2\\'s economy in last 15 games',\\\n",
        "                'team1_wickets': 'team1\\'s wickets in last 15 games',\\\n",
        "                'team2_wickets': 'team2\\'s wickets in last 15 games',\\\n",
        "                'team_avg_economy_last5': 'Ratio of team1\\'s avg economy to team2\\'s avg economy in last 5 games',\\\n",
        "                'team_count_50runs_last15': 'Ratio of number of 50s by players in team1 to number of 50s by players in team2 in last 15 games',\\\n",
        "                'team1_winp_team2_last5': 'Team1\\'s win percentage against Team2 in last 5 games',\\\n",
        "                'team_winp_last1': 'Ratio of team1\\'s win % to team2\\'s win % in last 1 games',\\\n",
        "                'boundary_runs_concededratio_last15': 'Ratio of team1\\'s boundary runs conceded to team2\\'s boundary runs conceded in last 15 games',\\\n",
        "                'boundary_runs_concededratio': 'Ratio of team1\\'s boundary runs conceded to team2\\'s boundary runs conceded in last 5 games',\\\n",
        "                'maidensratio': 'Ratio of team1\\'s maidens to team2\\'s maidens in last 15 games',\\\n",
        "                'maidensratio_last_15': 'Ratio of team1\\'s maidens to team2\\'s maidens in last 15 games',\\\n",
        "                'threewickethaulsratio': 'Ratio of team1\\'s three wicket haul to team2\\'s three wicket haul in last 15 games',\\\n",
        "                'boundary_runs_percentage_ratio': 'Ratio of team1\\'s boundary runs percentage to team2\\'s boundary runs percentage in last 5 games',\\\n",
        "                'strike_ratio': 'Ratio of team1\\'s strike rate to team2\\'s strike rate in last 15 games',\\\n",
        "                'team_winp_last5_versus': 'Ratio of team1\\'s win % to team2\\'s win % in their last 5 games',\\\n",
        "                'best_economy1': 'Best bowler\\'s economy in last 15 games',\\\n",
        "                'best_economy2': 'Best bowler\\'s economy in last 15 games',\\\n",
        "\n",
        "                }"
      ]
    },
    {
      "cell_type": "code",
      "execution_count": null,
      "metadata": {
        "id": "MQUeXG431vFa"
      },
      "outputs": [],
      "source": [
        "df_file2 = df_feat_importance\n",
        "df_file2['feat_id'] = [i+1 for i in df_file2.index]\n",
        "df_file2['feat_rank_train'] = [i+1 for i in df_file2.index]\n",
        "df_file2 = df_file2.set_index('feat_id')\n",
        "df_file2['feat_description'] = df_file2['feat_name'].map(feature_desc)"
      ]
    },
    {
      "cell_type": "code",
      "execution_count": null,
      "metadata": {
        "id": "BTnInMTS9MOd"
      },
      "outputs": [],
      "source": [
        "df_file2"
      ]
    },
    {
      "cell_type": "code",
      "execution_count": null,
      "metadata": {
        "id": "7_qNC-QqIrqH"
      },
      "outputs": [],
      "source": [
        "df_file2.reset_index(inplace = True)"
      ]
    },
    {
      "cell_type": "code",
      "execution_count": null,
      "metadata": {
        "id": "SejMFbKWIwf4"
      },
      "outputs": [],
      "source": [
        "df_file2"
      ]
    },
    {
      "cell_type": "code",
      "execution_count": null,
      "metadata": {
        "id": "lxQU2ZoD9Nsx"
      },
      "outputs": [],
      "source": [
        "df_file2.to_csv('File2.csv', sep=',', index=False, encoding='utf-8')"
      ]
    },
    {
      "cell_type": "code",
      "execution_count": null,
      "metadata": {
        "id": "oE3VLrXS-R5a"
      },
      "outputs": [],
      "source": []
    },
    {
      "cell_type": "markdown",
      "metadata": {
        "id": "HZNK_8QUReoz"
      },
      "source": [
        "### file_1"
      ]
    },
    {
      "cell_type": "code",
      "execution_count": null,
      "metadata": {
        "id": "f42uA8SnSEXB"
      },
      "outputs": [],
      "source": [
        "df_file1 = pd.concat([df_test[['match id','dataset_type','win_pred_team_id','win_pred_score',] + list(df_feat_importance['feat_name'].head(10))], \\\n",
        "                     df_train[['match id','dataset_type','win_pred_team_id','win_pred_score',] + list(df_feat_importance['feat_name'].head(10))]])\n",
        "\n",
        "renaming_dict = {}\n",
        "for i,col in enumerate(list(df_feat_importance['feat_name'].head(10))):\n",
        "    renaming_dict[col] = f'indep_feat_id{i+1}'\n",
        "df_file1.rename(columns=renaming_dict, inplace=True)\n",
        "\n",
        "for i in range(1,11):\n",
        "    if f'indep_feat_id{i}' not in df_file1.columns:\n",
        "        df_file1[f'indep_feat_id{i}'] = np.nan\n",
        "\n",
        "df_file1['train_algorithm'] = 'lightboost'\n",
        "df_file1['is_ensemble'] = 'no'\n",
        "df_file1['train_hps_trees'] = 9\n",
        "df_file1['train_hps_depth'] = 4\n",
        "df_file1['train_hps_lr'] = 0.1"
      ]
    },
    {
      "cell_type": "code",
      "execution_count": null,
      "metadata": {
        "id": "lbuMG375B1QY"
      },
      "outputs": [],
      "source": [
        "df_file1"
      ]
    },
    {
      "cell_type": "code",
      "execution_count": null,
      "metadata": {
        "id": "8-fayusNGYfd"
      },
      "outputs": [],
      "source": [
        "df_file1.isna().sum()"
      ]
    },
    {
      "cell_type": "code",
      "execution_count": null,
      "metadata": {
        "id": "5aEFF209GfEI"
      },
      "outputs": [],
      "source": [
        "df_file1.fillna(0,inplace = True)"
      ]
    },
    {
      "cell_type": "code",
      "execution_count": null,
      "metadata": {
        "id": "Vq2U6P8LGiGA"
      },
      "outputs": [],
      "source": [
        "df_file1.isna().sum()"
      ]
    },
    {
      "cell_type": "code",
      "execution_count": null,
      "metadata": {
        "id": "QJjciY0XEN1a"
      },
      "outputs": [],
      "source": [
        "df_file1.to_csv('File_1.csv', sep=',', index=False, encoding='utf-8')"
      ]
    },
    {
      "cell_type": "code",
      "execution_count": null,
      "metadata": {
        "id": "rkIlgUAVEVpH"
      },
      "outputs": [],
      "source": []
    }
  ],
  "metadata": {
    "colab": {
      "collapsed_sections": [
        "kn3ZYYfK-L4G"
      ],
      "provenance": []
    },
    "kernelspec": {
      "display_name": "Python 3",
      "name": "python3"
    },
    "language_info": {
      "name": "python"
    }
  },
  "nbformat": 4,
  "nbformat_minor": 0
}
